{
  "cells": [
    {
      "cell_type": "markdown",
      "id": "62633f7b",
      "metadata": {
        "id": "62633f7b"
      },
      "source": [
        "![Python_logo](https://www.python.org/static/community_logos/python-logo-master-v3-TM.png)\n",
        "\n",
        "\n",
        " # **Cortex Game: Round2--Conditional Amount**\n",
        "\n",
        "Please note that you need to run this notebook 'Round2--Conditional Amount' first, before running the notebook 'Round2--Probability of Giving'.   "
      ]
    },
    {
      "cell_type": "markdown",
      "id": "c86ee20b-a48f-40e0-a726-ed8d58c063b6",
      "metadata": {
        "id": "c86ee20b-a48f-40e0-a726-ed8d58c063b6"
      },
      "source": [
        "> Before playing the game, you need to connect to SASPy first.\n",
        ">\n",
        ">> If it is your first time, please follow the 4 steps mentioned below!"
      ]
    },
    {
      "cell_type": "markdown",
      "source": [
        "Grecia Pacheco Castellanos A01366730"
      ],
      "metadata": {
        "id": "t5BQ72B-cDd6"
      },
      "id": "t5BQ72B-cDd6"
    },
    {
      "cell_type": "markdown",
      "id": "002c4525-7d94-40d5-a71c-cad1c13347fa",
      "metadata": {
        "id": "002c4525-7d94-40d5-a71c-cad1c13347fa"
      },
      "source": [
        "***\n",
        "## **Connect to SASPy**"
      ]
    },
    {
      "cell_type": "markdown",
      "source": [
        "**0- Connect to your Google Drive folder**"
      ],
      "metadata": {
        "id": "o2U8LlKyD2xJ"
      },
      "id": "o2U8LlKyD2xJ"
    },
    {
      "cell_type": "code",
      "source": [
        "my_folder = \"/content/drive/MyDrive/SemestreTec/COLAB-SAS\"\n",
        "\n",
        "from google.colab import drive\n",
        "drive.mount('/content/drive')\n",
        "\n",
        "# Change the following code to set your Drive folder\n",
        "import os\n",
        "os.chdir(my_folder)\n",
        "!pwd"
      ],
      "metadata": {
        "colab": {
          "base_uri": "https://localhost:8080/"
        },
        "id": "g9wt4YQRD2L4",
        "outputId": "b12c9ce5-3a25-4941-cfbf-2f3b617c725f"
      },
      "id": "g9wt4YQRD2L4",
      "execution_count": 1,
      "outputs": [
        {
          "output_type": "stream",
          "name": "stdout",
          "text": [
            "Mounted at /content/drive\n",
            "/content/drive/MyDrive/SemestreTec/COLAB-SAS\n"
          ]
        }
      ]
    },
    {
      "cell_type": "markdown",
      "id": "167ab055-0d92-4d45-987f-33c7272b5a41",
      "metadata": {
        "id": "167ab055-0d92-4d45-987f-33c7272b5a41"
      },
      "source": [
        "**1- Make sure that your Python version is 3.3 or higher as well as your Java version is 1.8.0_162 or higher**"
      ]
    },
    {
      "cell_type": "code",
      "execution_count": 2,
      "id": "e10e8290-97b0-4166-8576-bdd0e7ccd288",
      "metadata": {
        "collapsed": true,
        "colab": {
          "base_uri": "https://localhost:8080/"
        },
        "id": "e10e8290-97b0-4166-8576-bdd0e7ccd288",
        "outputId": "25cb5f6a-6e23-4612-e47c-17e09dc481a0"
      },
      "outputs": [
        {
          "output_type": "stream",
          "name": "stdout",
          "text": [
            "Python is at /usr/local/bin/python\n",
            "Python 3.8.15\n"
          ]
        }
      ],
      "source": [
        "!echo \"Python is at\" $(which python)\n",
        "!python --version"
      ]
    },
    {
      "cell_type": "code",
      "source": [
        "!echo \"Java is at\" $(which java)\n",
        "!/usr/bin/java -version"
      ],
      "metadata": {
        "colab": {
          "base_uri": "https://localhost:8080/"
        },
        "id": "qBZhEsp2D_jF",
        "outputId": "e9f5da01-1913-452a-e3fa-9d7d4361fdc8"
      },
      "id": "qBZhEsp2D_jF",
      "execution_count": 3,
      "outputs": [
        {
          "output_type": "stream",
          "name": "stdout",
          "text": [
            "Java is at /usr/bin/java\n",
            "openjdk version \"11.0.17\" 2022-10-18\n",
            "OpenJDK Runtime Environment (build 11.0.17+8-post-Ubuntu-1ubuntu218.04)\n",
            "OpenJDK 64-Bit Server VM (build 11.0.17+8-post-Ubuntu-1ubuntu218.04, mixed mode, sharing)\n"
          ]
        }
      ]
    },
    {
      "cell_type": "markdown",
      "id": "86bdc74f-a047-4782-9737-41e0274fd1f7",
      "metadata": {
        "id": "86bdc74f-a047-4782-9737-41e0274fd1f7"
      },
      "source": [
        "**2- Install SASPy**"
      ]
    },
    {
      "cell_type": "code",
      "execution_count": 4,
      "id": "07fc07de-8c34-4d44-be52-fb4cedf9fd6a",
      "metadata": {
        "collapsed": true,
        "colab": {
          "base_uri": "https://localhost:8080/"
        },
        "id": "07fc07de-8c34-4d44-be52-fb4cedf9fd6a",
        "outputId": "e0c8aa80-5831-426b-cc8a-2831718fa6d6"
      },
      "outputs": [
        {
          "output_type": "stream",
          "name": "stdout",
          "text": [
            "Looking in indexes: https://pypi.org/simple, https://us-python.pkg.dev/colab-wheels/public/simple/\n",
            "Collecting saspy\n",
            "  Downloading saspy-4.4.1.tar.gz (9.9 MB)\n",
            "\u001b[K     |████████████████████████████████| 9.9 MB 4.4 MB/s \n",
            "\u001b[?25hBuilding wheels for collected packages: saspy\n",
            "  Building wheel for saspy (setup.py) ... \u001b[?25l\u001b[?25hdone\n",
            "  Created wheel for saspy: filename=saspy-4.4.1-py3-none-any.whl size=9937304 sha256=f3033a3f66e1642922059ee28dd54c7b033fde24fff789b1c6181bad12cf4dbe\n",
            "  Stored in directory: /root/.cache/pip/wheels/0a/f6/ab/f7173c8a824856c66f6fd50194bb8fd3ef93fb4f1824be8d0c\n",
            "Successfully built saspy\n",
            "Installing collected packages: saspy\n",
            "Successfully installed saspy-4.4.1\n"
          ]
        }
      ],
      "source": [
        "pip install saspy"
      ]
    },
    {
      "cell_type": "markdown",
      "id": "9d37f71f-228c-4aa6-b4a2-3b03200bb46a",
      "metadata": {
        "id": "9d37f71f-228c-4aa6-b4a2-3b03200bb46a"
      },
      "source": [
        "**3- Create the configuration file \"sascfg_personal.py\"**\n",
        "Please, check that your Home Region is correct, you can check it at [ODA-SAS](https://welcome.oda.sas.com/home)"
      ]
    },
    {
      "cell_type": "code",
      "execution_count": 5,
      "id": "83761b63-3c3f-4e12-b2de-3f39a203986d",
      "metadata": {
        "collapsed": true,
        "tags": [],
        "colab": {
          "base_uri": "https://localhost:8080/"
        },
        "id": "83761b63-3c3f-4e12-b2de-3f39a203986d",
        "outputId": "d113dfa9-1ce2-4a2d-fc69-7966276e3b37"
      },
      "outputs": [
        {
          "output_type": "stream",
          "name": "stdout",
          "text": [
            "Overwriting sascfg_personal.py\n"
          ]
        }
      ],
      "source": [
        "%%writefile sascfg_personal.py\n",
        "SAS_config_names=['oda']\n",
        "oda = {'java' : '/usr/bin/java',\n",
        "#US Home Region 1\n",
        "'iomhost' : ['odaws01-usw2.oda.sas.com','odaws02-usw2.oda.sas.com','odaws03-usw2.oda.sas.com','odaws04-usw2.oda.sas.com'],\n",
        "#US Home Region 2\n",
        "#'iomhost' : ['odaws01-usw2-2.oda.sas.com','odaws02-usw2-2.oda.sas.com'],\n",
        "#European Home Region 1\n",
        "#'iomhost' : ['odaws01-euw1.oda.sas.com','odaws02-euw1.oda.sas.com'],\n",
        "#Asia Pacific Home Region 1\n",
        "#'iomhost' : ['odaws01-apse1.oda.sas.com','odaws02-apse1.oda.sas.com'],\n",
        "#Asia Pacific Home Region 2\n",
        "#'iomhost' : ['odaws01-apse1-2.oda.sas.com','odaws02-apse1-2.oda.sas.com'],\n",
        "'iomport' : 8591,\n",
        "'authkey' : 'oda',\n",
        "'encoding' : 'utf-8'\n",
        "}"
      ]
    },
    {
      "cell_type": "markdown",
      "source": [
        "**4- Create your .authinfo**"
      ],
      "metadata": {
        "id": "YSM6Rl2zETJk"
      },
      "id": "YSM6Rl2zETJk"
    },
    {
      "cell_type": "markdown",
      "source": [
        "If there is no .authinfo file, you can create this"
      ],
      "metadata": {
        "id": "CSoOqIAgEXoM"
      },
      "id": "CSoOqIAgEXoM"
    },
    {
      "cell_type": "code",
      "source": [
        "%%writefile .authinfo\n",
        "oda user A01366730@tec.mx password Ohlnz1D*knesn"
      ],
      "metadata": {
        "id": "UmLrv6cCETrF",
        "colab": {
          "base_uri": "https://localhost:8080/"
        },
        "outputId": "9d021dbf-2568-492c-874b-8dcbf083f2ab"
      },
      "id": "UmLrv6cCETrF",
      "execution_count": 6,
      "outputs": [
        {
          "output_type": "stream",
          "name": "stdout",
          "text": [
            "Overwriting .authinfo\n"
          ]
        }
      ]
    },
    {
      "cell_type": "markdown",
      "source": [
        "Copy this file to home"
      ],
      "metadata": {
        "id": "CQey8PS9EYm_"
      },
      "id": "CQey8PS9EYm_"
    },
    {
      "cell_type": "code",
      "source": [
        "!cp .authinfo ~/.authinfo"
      ],
      "metadata": {
        "id": "FM9XvF-GEbPi"
      },
      "id": "FM9XvF-GEbPi",
      "execution_count": 7,
      "outputs": []
    },
    {
      "cell_type": "markdown",
      "id": "326e7b08-655d-4b1b-a720-87ba34c63d07",
      "metadata": {
        "id": "326e7b08-655d-4b1b-a720-87ba34c63d07"
      },
      "source": [
        "**5- Establish Connection (Need to do this step each time you use SASPy)**"
      ]
    },
    {
      "cell_type": "code",
      "execution_count": 8,
      "id": "f5510764-6263-440e-9b0e-1cac5b1472f8",
      "metadata": {
        "collapsed": true,
        "colab": {
          "base_uri": "https://localhost:8080/"
        },
        "id": "f5510764-6263-440e-9b0e-1cac5b1472f8",
        "outputId": "b7654340-7488-4659-a5ff-6cefb9801026"
      },
      "outputs": [
        {
          "output_type": "stream",
          "name": "stdout",
          "text": [
            "Using SAS Config named: oda\n",
            "SAS Connection established. Subprocess id is 386\n",
            "\n"
          ]
        },
        {
          "output_type": "execute_result",
          "data": {
            "text/plain": [
              "Access Method         = IOM\n",
              "SAS Config name       = oda\n",
              "SAS Config file       = /content/drive/MyDrive/SemestreTec/COLAB-SAS/sascfg_personal.py\n",
              "WORK Path             = /saswork/SAS_workABBE00017B59_odaws04-usw2.oda.sas.com/SAS_work782100017B59_odaws04-usw2.oda.sas.com/\n",
              "SAS Version           = 9.04.01M6P11072018\n",
              "SASPy Version         = 4.4.1\n",
              "Teach me SAS          = False\n",
              "Batch                 = False\n",
              "Results               = Pandas\n",
              "SAS Session Encoding  = utf-8\n",
              "Python Encoding value = utf-8\n",
              "SAS process Pid value = 97113\n"
            ]
          },
          "metadata": {},
          "execution_count": 8
        }
      ],
      "source": [
        "import saspy\n",
        "sas_session = saspy.SASsession(cfgfile=os.path.join(\n",
        "    my_folder,\"sascfg_personal.py\"))\n",
        "sas_session"
      ]
    },
    {
      "cell_type": "markdown",
      "id": "19574f6f-9486-47f1-99e4-ca8141139cd4",
      "metadata": {
        "id": "19574f6f-9486-47f1-99e4-ca8141139cd4"
      },
      "source": [
        "***\n",
        "## Connect to Cortex Data Sets"
      ]
    },
    {
      "cell_type": "markdown",
      "id": "5ffa5b48",
      "metadata": {
        "id": "5ffa5b48"
      },
      "source": [
        "Load Cortex datasets from SAS Studio"
      ]
    },
    {
      "cell_type": "code",
      "source": [
        "ps = sas_session.submit(\"\"\"\n",
        "    libname cortex '~/my_shared_file_links/u39842936/Cortex Data Sets';\n",
        "    \"\"\")\n",
        "print(ps[\"LOG\"])"
      ],
      "metadata": {
        "colab": {
          "base_uri": "https://localhost:8080/"
        },
        "id": "NWl0nAdKElrE",
        "outputId": "12c8aca2-4aa6-4aa4-8b86-c039ed516223"
      },
      "id": "NWl0nAdKElrE",
      "execution_count": 9,
      "outputs": [
        {
          "output_type": "stream",
          "name": "stdout",
          "text": [
            "\n",
            "5                                                          The SAS System                      Sunday, December  4, 2022 02:26:00 PM\n",
            "\n",
            "24         ods listing close;ods html5 (id=saspy_internal) file=_tomods1 options(bitmap_mode='inline') device=svg style=HTMLBlue;\n",
            "24       ! ods graphics on / outputfmt=png;\n",
            "25         \n",
            "26         \n",
            "27             libname cortex '~/my_shared_file_links/u39842936/Cortex Data Sets';\n",
            "28         \n",
            "29         \n",
            "30         \n",
            "31         ods html5 (id=saspy_internal) close;ods listing;\n",
            "32         \n",
            "\n",
            "6                                                          The SAS System                      Sunday, December  4, 2022 02:26:00 PM\n",
            "\n",
            "33         \n"
          ]
        }
      ]
    },
    {
      "cell_type": "markdown",
      "source": [
        "For local Jupyter"
      ],
      "metadata": {
        "id": "ib1jUAN5Enkz"
      },
      "id": "ib1jUAN5Enkz"
    },
    {
      "cell_type": "code",
      "execution_count": 10,
      "id": "d4204cf9",
      "metadata": {
        "collapsed": true,
        "id": "d4204cf9"
      },
      "outputs": [],
      "source": [
        "#%%SAS sas_session\n",
        "#libname cortex '~/my_shared_file_links/u39842936/Cortex Data Sets';"
      ]
    },
    {
      "cell_type": "markdown",
      "id": "bb730ee9",
      "metadata": {
        "id": "bb730ee9"
      },
      "source": [
        "### Transform cloud SAS dataset to Python dataframe (pandas)\n",
        "\n",
        "> For reference: \n",
        "\n",
        "> 1- [Pandas library](https://pandas.pydata.org/docs/user_guide/index.html)\n",
        "\n",
        "> 2- [sklearn.model_selection for data partition](https://scikit-learn.org/stable/modules/generated/sklearn.model_selection.train_test_split.html)"
      ]
    },
    {
      "cell_type": "code",
      "execution_count": 11,
      "id": "f298efcc",
      "metadata": {
        "id": "f298efcc"
      },
      "outputs": [],
      "source": [
        "import pandas as pd\n",
        "\n",
        "#comment: Transform cloud sas dataset to python dataframe(pandas) ==> might take some time.\n",
        "\n",
        "data1 = sas_session.sasdata2dataframe(\n",
        "table='hist',\n",
        "libref='cortex'\n",
        ")\n",
        "\n",
        "data2 = sas_session.sasdata2dataframe(\n",
        "table='target_rd2',\n",
        "libref='cortex'\n",
        ")"
      ]
    },
    {
      "cell_type": "markdown",
      "id": "5d6a7d11-cd31-452e-a62b-b74479b86898",
      "metadata": {
        "id": "5d6a7d11-cd31-452e-a62b-b74479b86898"
      },
      "source": [
        "## Merge the Data"
      ]
    },
    {
      "cell_type": "code",
      "execution_count": 12,
      "id": "419ef624",
      "metadata": {
        "collapsed": true,
        "colab": {
          "base_uri": "https://localhost:8080/",
          "height": 0
        },
        "id": "419ef624",
        "outputId": "c815af4c-f0e5-4235-c21a-a3f4dd30b927"
      },
      "outputs": [
        {
          "output_type": "execute_result",
          "data": {
            "text/plain": [
              "               ID LastName FirstName  Woman   Age   Salary  \\\n",
              "493246  2493247.0    DAVIS     SCOTT    0.0  27.0  10000.0   \n",
              "686579  2686580.0    MATOS      EARL    0.0  39.0  20300.0   \n",
              "\n",
              "                   Education      City  SeniorList  NbActivities  ...  \\\n",
              "493246            Elementary  Suburban         9.0           3.0  ...   \n",
              "686579  University / College  Downtown         6.0           1.0  ...   \n",
              "\n",
              "        Frequency  Seniority  TotalGift  MinGift  MaxGift  GaveLastYear  \\\n",
              "493246        1.0        3.0       20.0     20.0     20.0           0.0   \n",
              "686579        NaN        NaN        NaN      NaN      NaN           0.0   \n",
              "\n",
              "        AmtLastYear  Contact  GaveThisYear  AmtThisYear  \n",
              "493246          0.0      1.0           1.0        100.0  \n",
              "686579          0.0      0.0           1.0         30.0  \n",
              "\n",
              "[2 rows x 22 columns]"
            ],
            "text/html": [
              "\n",
              "  <div id=\"df-dbab0186-5099-488d-b4b6-09f09f52b45a\">\n",
              "    <div class=\"colab-df-container\">\n",
              "      <div>\n",
              "<style scoped>\n",
              "    .dataframe tbody tr th:only-of-type {\n",
              "        vertical-align: middle;\n",
              "    }\n",
              "\n",
              "    .dataframe tbody tr th {\n",
              "        vertical-align: top;\n",
              "    }\n",
              "\n",
              "    .dataframe thead th {\n",
              "        text-align: right;\n",
              "    }\n",
              "</style>\n",
              "<table border=\"1\" class=\"dataframe\">\n",
              "  <thead>\n",
              "    <tr style=\"text-align: right;\">\n",
              "      <th></th>\n",
              "      <th>ID</th>\n",
              "      <th>LastName</th>\n",
              "      <th>FirstName</th>\n",
              "      <th>Woman</th>\n",
              "      <th>Age</th>\n",
              "      <th>Salary</th>\n",
              "      <th>Education</th>\n",
              "      <th>City</th>\n",
              "      <th>SeniorList</th>\n",
              "      <th>NbActivities</th>\n",
              "      <th>...</th>\n",
              "      <th>Frequency</th>\n",
              "      <th>Seniority</th>\n",
              "      <th>TotalGift</th>\n",
              "      <th>MinGift</th>\n",
              "      <th>MaxGift</th>\n",
              "      <th>GaveLastYear</th>\n",
              "      <th>AmtLastYear</th>\n",
              "      <th>Contact</th>\n",
              "      <th>GaveThisYear</th>\n",
              "      <th>AmtThisYear</th>\n",
              "    </tr>\n",
              "  </thead>\n",
              "  <tbody>\n",
              "    <tr>\n",
              "      <th>493246</th>\n",
              "      <td>2493247.0</td>\n",
              "      <td>DAVIS</td>\n",
              "      <td>SCOTT</td>\n",
              "      <td>0.0</td>\n",
              "      <td>27.0</td>\n",
              "      <td>10000.0</td>\n",
              "      <td>Elementary</td>\n",
              "      <td>Suburban</td>\n",
              "      <td>9.0</td>\n",
              "      <td>3.0</td>\n",
              "      <td>...</td>\n",
              "      <td>1.0</td>\n",
              "      <td>3.0</td>\n",
              "      <td>20.0</td>\n",
              "      <td>20.0</td>\n",
              "      <td>20.0</td>\n",
              "      <td>0.0</td>\n",
              "      <td>0.0</td>\n",
              "      <td>1.0</td>\n",
              "      <td>1.0</td>\n",
              "      <td>100.0</td>\n",
              "    </tr>\n",
              "    <tr>\n",
              "      <th>686579</th>\n",
              "      <td>2686580.0</td>\n",
              "      <td>MATOS</td>\n",
              "      <td>EARL</td>\n",
              "      <td>0.0</td>\n",
              "      <td>39.0</td>\n",
              "      <td>20300.0</td>\n",
              "      <td>University / College</td>\n",
              "      <td>Downtown</td>\n",
              "      <td>6.0</td>\n",
              "      <td>1.0</td>\n",
              "      <td>...</td>\n",
              "      <td>NaN</td>\n",
              "      <td>NaN</td>\n",
              "      <td>NaN</td>\n",
              "      <td>NaN</td>\n",
              "      <td>NaN</td>\n",
              "      <td>0.0</td>\n",
              "      <td>0.0</td>\n",
              "      <td>0.0</td>\n",
              "      <td>1.0</td>\n",
              "      <td>30.0</td>\n",
              "    </tr>\n",
              "  </tbody>\n",
              "</table>\n",
              "<p>2 rows × 22 columns</p>\n",
              "</div>\n",
              "      <button class=\"colab-df-convert\" onclick=\"convertToInteractive('df-dbab0186-5099-488d-b4b6-09f09f52b45a')\"\n",
              "              title=\"Convert this dataframe to an interactive table.\"\n",
              "              style=\"display:none;\">\n",
              "        \n",
              "  <svg xmlns=\"http://www.w3.org/2000/svg\" height=\"24px\"viewBox=\"0 0 24 24\"\n",
              "       width=\"24px\">\n",
              "    <path d=\"M0 0h24v24H0V0z\" fill=\"none\"/>\n",
              "    <path d=\"M18.56 5.44l.94 2.06.94-2.06 2.06-.94-2.06-.94-.94-2.06-.94 2.06-2.06.94zm-11 1L8.5 8.5l.94-2.06 2.06-.94-2.06-.94L8.5 2.5l-.94 2.06-2.06.94zm10 10l.94 2.06.94-2.06 2.06-.94-2.06-.94-.94-2.06-.94 2.06-2.06.94z\"/><path d=\"M17.41 7.96l-1.37-1.37c-.4-.4-.92-.59-1.43-.59-.52 0-1.04.2-1.43.59L10.3 9.45l-7.72 7.72c-.78.78-.78 2.05 0 2.83L4 21.41c.39.39.9.59 1.41.59.51 0 1.02-.2 1.41-.59l7.78-7.78 2.81-2.81c.8-.78.8-2.07 0-2.86zM5.41 20L4 18.59l7.72-7.72 1.47 1.35L5.41 20z\"/>\n",
              "  </svg>\n",
              "      </button>\n",
              "      \n",
              "  <style>\n",
              "    .colab-df-container {\n",
              "      display:flex;\n",
              "      flex-wrap:wrap;\n",
              "      gap: 12px;\n",
              "    }\n",
              "\n",
              "    .colab-df-convert {\n",
              "      background-color: #E8F0FE;\n",
              "      border: none;\n",
              "      border-radius: 50%;\n",
              "      cursor: pointer;\n",
              "      display: none;\n",
              "      fill: #1967D2;\n",
              "      height: 32px;\n",
              "      padding: 0 0 0 0;\n",
              "      width: 32px;\n",
              "    }\n",
              "\n",
              "    .colab-df-convert:hover {\n",
              "      background-color: #E2EBFA;\n",
              "      box-shadow: 0px 1px 2px rgba(60, 64, 67, 0.3), 0px 1px 3px 1px rgba(60, 64, 67, 0.15);\n",
              "      fill: #174EA6;\n",
              "    }\n",
              "\n",
              "    [theme=dark] .colab-df-convert {\n",
              "      background-color: #3B4455;\n",
              "      fill: #D2E3FC;\n",
              "    }\n",
              "\n",
              "    [theme=dark] .colab-df-convert:hover {\n",
              "      background-color: #434B5C;\n",
              "      box-shadow: 0px 1px 3px 1px rgba(0, 0, 0, 0.15);\n",
              "      filter: drop-shadow(0px 1px 2px rgba(0, 0, 0, 0.3));\n",
              "      fill: #FFFFFF;\n",
              "    }\n",
              "  </style>\n",
              "\n",
              "      <script>\n",
              "        const buttonEl =\n",
              "          document.querySelector('#df-dbab0186-5099-488d-b4b6-09f09f52b45a button.colab-df-convert');\n",
              "        buttonEl.style.display =\n",
              "          google.colab.kernel.accessAllowed ? 'block' : 'none';\n",
              "\n",
              "        async function convertToInteractive(key) {\n",
              "          const element = document.querySelector('#df-dbab0186-5099-488d-b4b6-09f09f52b45a');\n",
              "          const dataTable =\n",
              "            await google.colab.kernel.invokeFunction('convertToInteractive',\n",
              "                                                     [key], {});\n",
              "          if (!dataTable) return;\n",
              "\n",
              "          const docLinkHtml = 'Like what you see? Visit the ' +\n",
              "            '<a target=\"_blank\" href=https://colab.research.google.com/notebooks/data_table.ipynb>data table notebook</a>'\n",
              "            + ' to learn more about interactive tables.';\n",
              "          element.innerHTML = '';\n",
              "          dataTable['output_type'] = 'display_data';\n",
              "          await google.colab.output.renderOutput(dataTable, element);\n",
              "          const docLink = document.createElement('div');\n",
              "          docLink.innerHTML = docLinkHtml;\n",
              "          element.appendChild(docLink);\n",
              "        }\n",
              "      </script>\n",
              "    </div>\n",
              "  </div>\n",
              "  "
            ]
          },
          "metadata": {},
          "execution_count": 12
        }
      ],
      "source": [
        "#Step1 Merge the Data\n",
        "data_merge = pd.merge(data1, data2, on=[\"ID\"],how=\"right\")\n",
        "data_merge = data_merge.loc[(data_merge['GaveThisYear'] ==1)]\n",
        "data_merge.sample(2)"
      ]
    },
    {
      "cell_type": "markdown",
      "source": [
        "## Understanding data\n",
        "This part is neccesary to understand the problem and the variables provided in order to realice the correct data transformation for a better model training.\n",
        "\n"
      ],
      "metadata": {
        "id": "M9myG_xQwvgj"
      },
      "id": "M9myG_xQwvgj"
    },
    {
      "cell_type": "code",
      "source": [
        "to_delete = [\"ID\", \"LastName\", \"FirstName\"]\n",
        "data_merge = data_merge.drop(columns=to_delete)\n",
        "data_merge.head()"
      ],
      "metadata": {
        "colab": {
          "base_uri": "https://localhost:8080/",
          "height": 357
        },
        "id": "ofNiMQZEillt",
        "outputId": "4e675b36-2aa4-41f1-b6ab-1b18ca36edea"
      },
      "id": "ofNiMQZEillt",
      "execution_count": 13,
      "outputs": [
        {
          "output_type": "execute_result",
          "data": {
            "text/plain": [
              "    Woman   Age    Salary             Education      City  SeniorList  \\\n",
              "3     1.0  78.0   23700.0           High School     Rural         3.0   \n",
              "7     0.0  30.0   92700.0  University / College  Suburban         2.0   \n",
              "11    1.0  52.0   77600.0           High School      City         0.0   \n",
              "16    1.0  50.0   13000.0           High School  Suburban         0.0   \n",
              "20    1.0  39.0  237800.0  University / College     Rural         5.0   \n",
              "\n",
              "    NbActivities  Referrals  Recency  Frequency  Seniority  TotalGift  \\\n",
              "3            0.0        0.0      NaN        NaN        NaN        NaN   \n",
              "7            0.0        0.0      NaN        NaN        NaN        NaN   \n",
              "11           0.0        0.0      NaN        NaN        NaN        NaN   \n",
              "16           0.0        0.0      NaN        NaN        NaN        NaN   \n",
              "20           0.0        0.0      NaN        NaN        NaN        NaN   \n",
              "\n",
              "    MinGift  MaxGift  GaveLastYear  AmtLastYear  Contact  GaveThisYear  \\\n",
              "3       NaN      NaN           0.0          0.0      1.0           1.0   \n",
              "7       NaN      NaN           0.0          0.0      1.0           1.0   \n",
              "11      NaN      NaN           0.0          0.0      1.0           1.0   \n",
              "16      NaN      NaN           1.0         20.0      1.0           1.0   \n",
              "20      NaN      NaN           0.0          0.0      1.0           1.0   \n",
              "\n",
              "    AmtThisYear  \n",
              "3          20.0  \n",
              "7          30.0  \n",
              "11         20.0  \n",
              "16         75.0  \n",
              "20         20.0  "
            ],
            "text/html": [
              "\n",
              "  <div id=\"df-9836828e-02a0-44c8-8452-b53ad83b40a0\">\n",
              "    <div class=\"colab-df-container\">\n",
              "      <div>\n",
              "<style scoped>\n",
              "    .dataframe tbody tr th:only-of-type {\n",
              "        vertical-align: middle;\n",
              "    }\n",
              "\n",
              "    .dataframe tbody tr th {\n",
              "        vertical-align: top;\n",
              "    }\n",
              "\n",
              "    .dataframe thead th {\n",
              "        text-align: right;\n",
              "    }\n",
              "</style>\n",
              "<table border=\"1\" class=\"dataframe\">\n",
              "  <thead>\n",
              "    <tr style=\"text-align: right;\">\n",
              "      <th></th>\n",
              "      <th>Woman</th>\n",
              "      <th>Age</th>\n",
              "      <th>Salary</th>\n",
              "      <th>Education</th>\n",
              "      <th>City</th>\n",
              "      <th>SeniorList</th>\n",
              "      <th>NbActivities</th>\n",
              "      <th>Referrals</th>\n",
              "      <th>Recency</th>\n",
              "      <th>Frequency</th>\n",
              "      <th>Seniority</th>\n",
              "      <th>TotalGift</th>\n",
              "      <th>MinGift</th>\n",
              "      <th>MaxGift</th>\n",
              "      <th>GaveLastYear</th>\n",
              "      <th>AmtLastYear</th>\n",
              "      <th>Contact</th>\n",
              "      <th>GaveThisYear</th>\n",
              "      <th>AmtThisYear</th>\n",
              "    </tr>\n",
              "  </thead>\n",
              "  <tbody>\n",
              "    <tr>\n",
              "      <th>3</th>\n",
              "      <td>1.0</td>\n",
              "      <td>78.0</td>\n",
              "      <td>23700.0</td>\n",
              "      <td>High School</td>\n",
              "      <td>Rural</td>\n",
              "      <td>3.0</td>\n",
              "      <td>0.0</td>\n",
              "      <td>0.0</td>\n",
              "      <td>NaN</td>\n",
              "      <td>NaN</td>\n",
              "      <td>NaN</td>\n",
              "      <td>NaN</td>\n",
              "      <td>NaN</td>\n",
              "      <td>NaN</td>\n",
              "      <td>0.0</td>\n",
              "      <td>0.0</td>\n",
              "      <td>1.0</td>\n",
              "      <td>1.0</td>\n",
              "      <td>20.0</td>\n",
              "    </tr>\n",
              "    <tr>\n",
              "      <th>7</th>\n",
              "      <td>0.0</td>\n",
              "      <td>30.0</td>\n",
              "      <td>92700.0</td>\n",
              "      <td>University / College</td>\n",
              "      <td>Suburban</td>\n",
              "      <td>2.0</td>\n",
              "      <td>0.0</td>\n",
              "      <td>0.0</td>\n",
              "      <td>NaN</td>\n",
              "      <td>NaN</td>\n",
              "      <td>NaN</td>\n",
              "      <td>NaN</td>\n",
              "      <td>NaN</td>\n",
              "      <td>NaN</td>\n",
              "      <td>0.0</td>\n",
              "      <td>0.0</td>\n",
              "      <td>1.0</td>\n",
              "      <td>1.0</td>\n",
              "      <td>30.0</td>\n",
              "    </tr>\n",
              "    <tr>\n",
              "      <th>11</th>\n",
              "      <td>1.0</td>\n",
              "      <td>52.0</td>\n",
              "      <td>77600.0</td>\n",
              "      <td>High School</td>\n",
              "      <td>City</td>\n",
              "      <td>0.0</td>\n",
              "      <td>0.0</td>\n",
              "      <td>0.0</td>\n",
              "      <td>NaN</td>\n",
              "      <td>NaN</td>\n",
              "      <td>NaN</td>\n",
              "      <td>NaN</td>\n",
              "      <td>NaN</td>\n",
              "      <td>NaN</td>\n",
              "      <td>0.0</td>\n",
              "      <td>0.0</td>\n",
              "      <td>1.0</td>\n",
              "      <td>1.0</td>\n",
              "      <td>20.0</td>\n",
              "    </tr>\n",
              "    <tr>\n",
              "      <th>16</th>\n",
              "      <td>1.0</td>\n",
              "      <td>50.0</td>\n",
              "      <td>13000.0</td>\n",
              "      <td>High School</td>\n",
              "      <td>Suburban</td>\n",
              "      <td>0.0</td>\n",
              "      <td>0.0</td>\n",
              "      <td>0.0</td>\n",
              "      <td>NaN</td>\n",
              "      <td>NaN</td>\n",
              "      <td>NaN</td>\n",
              "      <td>NaN</td>\n",
              "      <td>NaN</td>\n",
              "      <td>NaN</td>\n",
              "      <td>1.0</td>\n",
              "      <td>20.0</td>\n",
              "      <td>1.0</td>\n",
              "      <td>1.0</td>\n",
              "      <td>75.0</td>\n",
              "    </tr>\n",
              "    <tr>\n",
              "      <th>20</th>\n",
              "      <td>1.0</td>\n",
              "      <td>39.0</td>\n",
              "      <td>237800.0</td>\n",
              "      <td>University / College</td>\n",
              "      <td>Rural</td>\n",
              "      <td>5.0</td>\n",
              "      <td>0.0</td>\n",
              "      <td>0.0</td>\n",
              "      <td>NaN</td>\n",
              "      <td>NaN</td>\n",
              "      <td>NaN</td>\n",
              "      <td>NaN</td>\n",
              "      <td>NaN</td>\n",
              "      <td>NaN</td>\n",
              "      <td>0.0</td>\n",
              "      <td>0.0</td>\n",
              "      <td>1.0</td>\n",
              "      <td>1.0</td>\n",
              "      <td>20.0</td>\n",
              "    </tr>\n",
              "  </tbody>\n",
              "</table>\n",
              "</div>\n",
              "      <button class=\"colab-df-convert\" onclick=\"convertToInteractive('df-9836828e-02a0-44c8-8452-b53ad83b40a0')\"\n",
              "              title=\"Convert this dataframe to an interactive table.\"\n",
              "              style=\"display:none;\">\n",
              "        \n",
              "  <svg xmlns=\"http://www.w3.org/2000/svg\" height=\"24px\"viewBox=\"0 0 24 24\"\n",
              "       width=\"24px\">\n",
              "    <path d=\"M0 0h24v24H0V0z\" fill=\"none\"/>\n",
              "    <path d=\"M18.56 5.44l.94 2.06.94-2.06 2.06-.94-2.06-.94-.94-2.06-.94 2.06-2.06.94zm-11 1L8.5 8.5l.94-2.06 2.06-.94-2.06-.94L8.5 2.5l-.94 2.06-2.06.94zm10 10l.94 2.06.94-2.06 2.06-.94-2.06-.94-.94-2.06-.94 2.06-2.06.94z\"/><path d=\"M17.41 7.96l-1.37-1.37c-.4-.4-.92-.59-1.43-.59-.52 0-1.04.2-1.43.59L10.3 9.45l-7.72 7.72c-.78.78-.78 2.05 0 2.83L4 21.41c.39.39.9.59 1.41.59.51 0 1.02-.2 1.41-.59l7.78-7.78 2.81-2.81c.8-.78.8-2.07 0-2.86zM5.41 20L4 18.59l7.72-7.72 1.47 1.35L5.41 20z\"/>\n",
              "  </svg>\n",
              "      </button>\n",
              "      \n",
              "  <style>\n",
              "    .colab-df-container {\n",
              "      display:flex;\n",
              "      flex-wrap:wrap;\n",
              "      gap: 12px;\n",
              "    }\n",
              "\n",
              "    .colab-df-convert {\n",
              "      background-color: #E8F0FE;\n",
              "      border: none;\n",
              "      border-radius: 50%;\n",
              "      cursor: pointer;\n",
              "      display: none;\n",
              "      fill: #1967D2;\n",
              "      height: 32px;\n",
              "      padding: 0 0 0 0;\n",
              "      width: 32px;\n",
              "    }\n",
              "\n",
              "    .colab-df-convert:hover {\n",
              "      background-color: #E2EBFA;\n",
              "      box-shadow: 0px 1px 2px rgba(60, 64, 67, 0.3), 0px 1px 3px 1px rgba(60, 64, 67, 0.15);\n",
              "      fill: #174EA6;\n",
              "    }\n",
              "\n",
              "    [theme=dark] .colab-df-convert {\n",
              "      background-color: #3B4455;\n",
              "      fill: #D2E3FC;\n",
              "    }\n",
              "\n",
              "    [theme=dark] .colab-df-convert:hover {\n",
              "      background-color: #434B5C;\n",
              "      box-shadow: 0px 1px 3px 1px rgba(0, 0, 0, 0.15);\n",
              "      filter: drop-shadow(0px 1px 2px rgba(0, 0, 0, 0.3));\n",
              "      fill: #FFFFFF;\n",
              "    }\n",
              "  </style>\n",
              "\n",
              "      <script>\n",
              "        const buttonEl =\n",
              "          document.querySelector('#df-9836828e-02a0-44c8-8452-b53ad83b40a0 button.colab-df-convert');\n",
              "        buttonEl.style.display =\n",
              "          google.colab.kernel.accessAllowed ? 'block' : 'none';\n",
              "\n",
              "        async function convertToInteractive(key) {\n",
              "          const element = document.querySelector('#df-9836828e-02a0-44c8-8452-b53ad83b40a0');\n",
              "          const dataTable =\n",
              "            await google.colab.kernel.invokeFunction('convertToInteractive',\n",
              "                                                     [key], {});\n",
              "          if (!dataTable) return;\n",
              "\n",
              "          const docLinkHtml = 'Like what you see? Visit the ' +\n",
              "            '<a target=\"_blank\" href=https://colab.research.google.com/notebooks/data_table.ipynb>data table notebook</a>'\n",
              "            + ' to learn more about interactive tables.';\n",
              "          element.innerHTML = '';\n",
              "          dataTable['output_type'] = 'display_data';\n",
              "          await google.colab.output.renderOutput(dataTable, element);\n",
              "          const docLink = document.createElement('div');\n",
              "          docLink.innerHTML = docLinkHtml;\n",
              "          element.appendChild(docLink);\n",
              "        }\n",
              "      </script>\n",
              "    </div>\n",
              "  </div>\n",
              "  "
            ]
          },
          "metadata": {},
          "execution_count": 13
        }
      ]
    },
    {
      "cell_type": "code",
      "source": [
        "data_merge.describe()"
      ],
      "metadata": {
        "colab": {
          "base_uri": "https://localhost:8080/",
          "height": 364
        },
        "id": "_rfvburiinqO",
        "outputId": "8f9bdf1e-180d-4f58-c7a9-e5daac6da54e"
      },
      "id": "_rfvburiinqO",
      "execution_count": 14,
      "outputs": [
        {
          "output_type": "execute_result",
          "data": {
            "text/plain": [
              "               Woman            Age         Salary     SeniorList  \\\n",
              "count  149457.000000  149457.000000  149457.000000  149457.000000   \n",
              "mean        0.544979      45.256642   63898.012137       4.415210   \n",
              "std         0.497974      18.915539   60194.539355       3.345957   \n",
              "min         0.000000      16.000000       0.000000       0.000000   \n",
              "25%         0.000000      29.000000   20300.000000       1.000000   \n",
              "50%         1.000000      44.000000   43000.000000       4.000000   \n",
              "75%         1.000000      59.000000   87000.000000       7.000000   \n",
              "max         1.000000      90.000000  250000.000000      10.000000   \n",
              "\n",
              "        NbActivities      Referrals       Recency     Frequency     Seniority  \\\n",
              "count  149457.000000  149457.000000  68433.000000  68433.000000  68433.000000   \n",
              "mean        0.917361       0.911459      2.750910      1.985796      4.674952   \n",
              "std         1.334288       1.412152      1.956686      1.297829      2.613877   \n",
              "min         0.000000       0.000000      1.000000      1.000000      1.000000   \n",
              "25%         0.000000       0.000000      1.000000      1.000000      2.000000   \n",
              "50%         0.000000       0.000000      2.000000      2.000000      4.000000   \n",
              "75%         1.000000       1.000000      4.000000      3.000000      7.000000   \n",
              "max        10.000000      15.000000     10.000000     10.000000     10.000000   \n",
              "\n",
              "          TotalGift       MinGift       MaxGift   GaveLastYear    AmtLastYear  \\\n",
              "count  68433.000000  68433.000000  68433.000000  149457.000000  149457.000000   \n",
              "mean     134.864685     42.502521    106.674485       0.208207      14.167085   \n",
              "std      372.981373    160.658491    344.831631       0.406027     121.163666   \n",
              "min       10.000000     10.000000     10.000000       0.000000       0.000000   \n",
              "25%       25.000000     10.000000     20.000000       0.000000       0.000000   \n",
              "50%       50.000000     20.000000     30.000000       0.000000       0.000000   \n",
              "75%      115.000000     30.000000     75.000000       0.000000       0.000000   \n",
              "max    12160.000000  10000.000000  10000.000000       1.000000   10000.000000   \n",
              "\n",
              "             Contact  GaveThisYear    AmtThisYear  \n",
              "count  149457.000000      149457.0  149457.000000  \n",
              "mean        0.261286           1.0      62.959012  \n",
              "std         0.439337           0.0     227.894674  \n",
              "min         0.000000           1.0      10.000000  \n",
              "25%         0.000000           1.0      20.000000  \n",
              "50%         0.000000           1.0      25.000000  \n",
              "75%         1.000000           1.0      50.000000  \n",
              "max         1.000000           1.0   10000.000000  "
            ],
            "text/html": [
              "\n",
              "  <div id=\"df-153de8d9-d9f2-4311-8af2-d7bbf1fe31c7\">\n",
              "    <div class=\"colab-df-container\">\n",
              "      <div>\n",
              "<style scoped>\n",
              "    .dataframe tbody tr th:only-of-type {\n",
              "        vertical-align: middle;\n",
              "    }\n",
              "\n",
              "    .dataframe tbody tr th {\n",
              "        vertical-align: top;\n",
              "    }\n",
              "\n",
              "    .dataframe thead th {\n",
              "        text-align: right;\n",
              "    }\n",
              "</style>\n",
              "<table border=\"1\" class=\"dataframe\">\n",
              "  <thead>\n",
              "    <tr style=\"text-align: right;\">\n",
              "      <th></th>\n",
              "      <th>Woman</th>\n",
              "      <th>Age</th>\n",
              "      <th>Salary</th>\n",
              "      <th>SeniorList</th>\n",
              "      <th>NbActivities</th>\n",
              "      <th>Referrals</th>\n",
              "      <th>Recency</th>\n",
              "      <th>Frequency</th>\n",
              "      <th>Seniority</th>\n",
              "      <th>TotalGift</th>\n",
              "      <th>MinGift</th>\n",
              "      <th>MaxGift</th>\n",
              "      <th>GaveLastYear</th>\n",
              "      <th>AmtLastYear</th>\n",
              "      <th>Contact</th>\n",
              "      <th>GaveThisYear</th>\n",
              "      <th>AmtThisYear</th>\n",
              "    </tr>\n",
              "  </thead>\n",
              "  <tbody>\n",
              "    <tr>\n",
              "      <th>count</th>\n",
              "      <td>149457.000000</td>\n",
              "      <td>149457.000000</td>\n",
              "      <td>149457.000000</td>\n",
              "      <td>149457.000000</td>\n",
              "      <td>149457.000000</td>\n",
              "      <td>149457.000000</td>\n",
              "      <td>68433.000000</td>\n",
              "      <td>68433.000000</td>\n",
              "      <td>68433.000000</td>\n",
              "      <td>68433.000000</td>\n",
              "      <td>68433.000000</td>\n",
              "      <td>68433.000000</td>\n",
              "      <td>149457.000000</td>\n",
              "      <td>149457.000000</td>\n",
              "      <td>149457.000000</td>\n",
              "      <td>149457.0</td>\n",
              "      <td>149457.000000</td>\n",
              "    </tr>\n",
              "    <tr>\n",
              "      <th>mean</th>\n",
              "      <td>0.544979</td>\n",
              "      <td>45.256642</td>\n",
              "      <td>63898.012137</td>\n",
              "      <td>4.415210</td>\n",
              "      <td>0.917361</td>\n",
              "      <td>0.911459</td>\n",
              "      <td>2.750910</td>\n",
              "      <td>1.985796</td>\n",
              "      <td>4.674952</td>\n",
              "      <td>134.864685</td>\n",
              "      <td>42.502521</td>\n",
              "      <td>106.674485</td>\n",
              "      <td>0.208207</td>\n",
              "      <td>14.167085</td>\n",
              "      <td>0.261286</td>\n",
              "      <td>1.0</td>\n",
              "      <td>62.959012</td>\n",
              "    </tr>\n",
              "    <tr>\n",
              "      <th>std</th>\n",
              "      <td>0.497974</td>\n",
              "      <td>18.915539</td>\n",
              "      <td>60194.539355</td>\n",
              "      <td>3.345957</td>\n",
              "      <td>1.334288</td>\n",
              "      <td>1.412152</td>\n",
              "      <td>1.956686</td>\n",
              "      <td>1.297829</td>\n",
              "      <td>2.613877</td>\n",
              "      <td>372.981373</td>\n",
              "      <td>160.658491</td>\n",
              "      <td>344.831631</td>\n",
              "      <td>0.406027</td>\n",
              "      <td>121.163666</td>\n",
              "      <td>0.439337</td>\n",
              "      <td>0.0</td>\n",
              "      <td>227.894674</td>\n",
              "    </tr>\n",
              "    <tr>\n",
              "      <th>min</th>\n",
              "      <td>0.000000</td>\n",
              "      <td>16.000000</td>\n",
              "      <td>0.000000</td>\n",
              "      <td>0.000000</td>\n",
              "      <td>0.000000</td>\n",
              "      <td>0.000000</td>\n",
              "      <td>1.000000</td>\n",
              "      <td>1.000000</td>\n",
              "      <td>1.000000</td>\n",
              "      <td>10.000000</td>\n",
              "      <td>10.000000</td>\n",
              "      <td>10.000000</td>\n",
              "      <td>0.000000</td>\n",
              "      <td>0.000000</td>\n",
              "      <td>0.000000</td>\n",
              "      <td>1.0</td>\n",
              "      <td>10.000000</td>\n",
              "    </tr>\n",
              "    <tr>\n",
              "      <th>25%</th>\n",
              "      <td>0.000000</td>\n",
              "      <td>29.000000</td>\n",
              "      <td>20300.000000</td>\n",
              "      <td>1.000000</td>\n",
              "      <td>0.000000</td>\n",
              "      <td>0.000000</td>\n",
              "      <td>1.000000</td>\n",
              "      <td>1.000000</td>\n",
              "      <td>2.000000</td>\n",
              "      <td>25.000000</td>\n",
              "      <td>10.000000</td>\n",
              "      <td>20.000000</td>\n",
              "      <td>0.000000</td>\n",
              "      <td>0.000000</td>\n",
              "      <td>0.000000</td>\n",
              "      <td>1.0</td>\n",
              "      <td>20.000000</td>\n",
              "    </tr>\n",
              "    <tr>\n",
              "      <th>50%</th>\n",
              "      <td>1.000000</td>\n",
              "      <td>44.000000</td>\n",
              "      <td>43000.000000</td>\n",
              "      <td>4.000000</td>\n",
              "      <td>0.000000</td>\n",
              "      <td>0.000000</td>\n",
              "      <td>2.000000</td>\n",
              "      <td>2.000000</td>\n",
              "      <td>4.000000</td>\n",
              "      <td>50.000000</td>\n",
              "      <td>20.000000</td>\n",
              "      <td>30.000000</td>\n",
              "      <td>0.000000</td>\n",
              "      <td>0.000000</td>\n",
              "      <td>0.000000</td>\n",
              "      <td>1.0</td>\n",
              "      <td>25.000000</td>\n",
              "    </tr>\n",
              "    <tr>\n",
              "      <th>75%</th>\n",
              "      <td>1.000000</td>\n",
              "      <td>59.000000</td>\n",
              "      <td>87000.000000</td>\n",
              "      <td>7.000000</td>\n",
              "      <td>1.000000</td>\n",
              "      <td>1.000000</td>\n",
              "      <td>4.000000</td>\n",
              "      <td>3.000000</td>\n",
              "      <td>7.000000</td>\n",
              "      <td>115.000000</td>\n",
              "      <td>30.000000</td>\n",
              "      <td>75.000000</td>\n",
              "      <td>0.000000</td>\n",
              "      <td>0.000000</td>\n",
              "      <td>1.000000</td>\n",
              "      <td>1.0</td>\n",
              "      <td>50.000000</td>\n",
              "    </tr>\n",
              "    <tr>\n",
              "      <th>max</th>\n",
              "      <td>1.000000</td>\n",
              "      <td>90.000000</td>\n",
              "      <td>250000.000000</td>\n",
              "      <td>10.000000</td>\n",
              "      <td>10.000000</td>\n",
              "      <td>15.000000</td>\n",
              "      <td>10.000000</td>\n",
              "      <td>10.000000</td>\n",
              "      <td>10.000000</td>\n",
              "      <td>12160.000000</td>\n",
              "      <td>10000.000000</td>\n",
              "      <td>10000.000000</td>\n",
              "      <td>1.000000</td>\n",
              "      <td>10000.000000</td>\n",
              "      <td>1.000000</td>\n",
              "      <td>1.0</td>\n",
              "      <td>10000.000000</td>\n",
              "    </tr>\n",
              "  </tbody>\n",
              "</table>\n",
              "</div>\n",
              "      <button class=\"colab-df-convert\" onclick=\"convertToInteractive('df-153de8d9-d9f2-4311-8af2-d7bbf1fe31c7')\"\n",
              "              title=\"Convert this dataframe to an interactive table.\"\n",
              "              style=\"display:none;\">\n",
              "        \n",
              "  <svg xmlns=\"http://www.w3.org/2000/svg\" height=\"24px\"viewBox=\"0 0 24 24\"\n",
              "       width=\"24px\">\n",
              "    <path d=\"M0 0h24v24H0V0z\" fill=\"none\"/>\n",
              "    <path d=\"M18.56 5.44l.94 2.06.94-2.06 2.06-.94-2.06-.94-.94-2.06-.94 2.06-2.06.94zm-11 1L8.5 8.5l.94-2.06 2.06-.94-2.06-.94L8.5 2.5l-.94 2.06-2.06.94zm10 10l.94 2.06.94-2.06 2.06-.94-2.06-.94-.94-2.06-.94 2.06-2.06.94z\"/><path d=\"M17.41 7.96l-1.37-1.37c-.4-.4-.92-.59-1.43-.59-.52 0-1.04.2-1.43.59L10.3 9.45l-7.72 7.72c-.78.78-.78 2.05 0 2.83L4 21.41c.39.39.9.59 1.41.59.51 0 1.02-.2 1.41-.59l7.78-7.78 2.81-2.81c.8-.78.8-2.07 0-2.86zM5.41 20L4 18.59l7.72-7.72 1.47 1.35L5.41 20z\"/>\n",
              "  </svg>\n",
              "      </button>\n",
              "      \n",
              "  <style>\n",
              "    .colab-df-container {\n",
              "      display:flex;\n",
              "      flex-wrap:wrap;\n",
              "      gap: 12px;\n",
              "    }\n",
              "\n",
              "    .colab-df-convert {\n",
              "      background-color: #E8F0FE;\n",
              "      border: none;\n",
              "      border-radius: 50%;\n",
              "      cursor: pointer;\n",
              "      display: none;\n",
              "      fill: #1967D2;\n",
              "      height: 32px;\n",
              "      padding: 0 0 0 0;\n",
              "      width: 32px;\n",
              "    }\n",
              "\n",
              "    .colab-df-convert:hover {\n",
              "      background-color: #E2EBFA;\n",
              "      box-shadow: 0px 1px 2px rgba(60, 64, 67, 0.3), 0px 1px 3px 1px rgba(60, 64, 67, 0.15);\n",
              "      fill: #174EA6;\n",
              "    }\n",
              "\n",
              "    [theme=dark] .colab-df-convert {\n",
              "      background-color: #3B4455;\n",
              "      fill: #D2E3FC;\n",
              "    }\n",
              "\n",
              "    [theme=dark] .colab-df-convert:hover {\n",
              "      background-color: #434B5C;\n",
              "      box-shadow: 0px 1px 3px 1px rgba(0, 0, 0, 0.15);\n",
              "      filter: drop-shadow(0px 1px 2px rgba(0, 0, 0, 0.3));\n",
              "      fill: #FFFFFF;\n",
              "    }\n",
              "  </style>\n",
              "\n",
              "      <script>\n",
              "        const buttonEl =\n",
              "          document.querySelector('#df-153de8d9-d9f2-4311-8af2-d7bbf1fe31c7 button.colab-df-convert');\n",
              "        buttonEl.style.display =\n",
              "          google.colab.kernel.accessAllowed ? 'block' : 'none';\n",
              "\n",
              "        async function convertToInteractive(key) {\n",
              "          const element = document.querySelector('#df-153de8d9-d9f2-4311-8af2-d7bbf1fe31c7');\n",
              "          const dataTable =\n",
              "            await google.colab.kernel.invokeFunction('convertToInteractive',\n",
              "                                                     [key], {});\n",
              "          if (!dataTable) return;\n",
              "\n",
              "          const docLinkHtml = 'Like what you see? Visit the ' +\n",
              "            '<a target=\"_blank\" href=https://colab.research.google.com/notebooks/data_table.ipynb>data table notebook</a>'\n",
              "            + ' to learn more about interactive tables.';\n",
              "          element.innerHTML = '';\n",
              "          dataTable['output_type'] = 'display_data';\n",
              "          await google.colab.output.renderOutput(dataTable, element);\n",
              "          const docLink = document.createElement('div');\n",
              "          docLink.innerHTML = docLinkHtml;\n",
              "          element.appendChild(docLink);\n",
              "        }\n",
              "      </script>\n",
              "    </div>\n",
              "  </div>\n",
              "  "
            ]
          },
          "metadata": {},
          "execution_count": 14
        }
      ]
    },
    {
      "cell_type": "code",
      "source": [
        "NUMERICS = ('int16', 'int32', 'int64', 'float16', 'float32', 'float64')\n",
        "\n",
        "data_merge.select_dtypes(include = NUMERICS).describe().T\n"
      ],
      "metadata": {
        "colab": {
          "base_uri": "https://localhost:8080/",
          "height": 582
        },
        "id": "Kga_On71xXfj",
        "outputId": "2bfbd3ca-a1ad-4908-faa5-4a73e3b09b20"
      },
      "id": "Kga_On71xXfj",
      "execution_count": 15,
      "outputs": [
        {
          "output_type": "execute_result",
          "data": {
            "text/plain": [
              "                 count          mean           std   min      25%      50%  \\\n",
              "Woman         149457.0      0.544979      0.497974   0.0      0.0      1.0   \n",
              "Age           149457.0     45.256642     18.915539  16.0     29.0     44.0   \n",
              "Salary        149457.0  63898.012137  60194.539355   0.0  20300.0  43000.0   \n",
              "SeniorList    149457.0      4.415210      3.345957   0.0      1.0      4.0   \n",
              "NbActivities  149457.0      0.917361      1.334288   0.0      0.0      0.0   \n",
              "Referrals     149457.0      0.911459      1.412152   0.0      0.0      0.0   \n",
              "Recency        68433.0      2.750910      1.956686   1.0      1.0      2.0   \n",
              "Frequency      68433.0      1.985796      1.297829   1.0      1.0      2.0   \n",
              "Seniority      68433.0      4.674952      2.613877   1.0      2.0      4.0   \n",
              "TotalGift      68433.0    134.864685    372.981373  10.0     25.0     50.0   \n",
              "MinGift        68433.0     42.502521    160.658491  10.0     10.0     20.0   \n",
              "MaxGift        68433.0    106.674485    344.831631  10.0     20.0     30.0   \n",
              "GaveLastYear  149457.0      0.208207      0.406027   0.0      0.0      0.0   \n",
              "AmtLastYear   149457.0     14.167085    121.163666   0.0      0.0      0.0   \n",
              "Contact       149457.0      0.261286      0.439337   0.0      0.0      0.0   \n",
              "GaveThisYear  149457.0      1.000000      0.000000   1.0      1.0      1.0   \n",
              "AmtThisYear   149457.0     62.959012    227.894674  10.0     20.0     25.0   \n",
              "\n",
              "                  75%       max  \n",
              "Woman             1.0       1.0  \n",
              "Age              59.0      90.0  \n",
              "Salary        87000.0  250000.0  \n",
              "SeniorList        7.0      10.0  \n",
              "NbActivities      1.0      10.0  \n",
              "Referrals         1.0      15.0  \n",
              "Recency           4.0      10.0  \n",
              "Frequency         3.0      10.0  \n",
              "Seniority         7.0      10.0  \n",
              "TotalGift       115.0   12160.0  \n",
              "MinGift          30.0   10000.0  \n",
              "MaxGift          75.0   10000.0  \n",
              "GaveLastYear      0.0       1.0  \n",
              "AmtLastYear       0.0   10000.0  \n",
              "Contact           1.0       1.0  \n",
              "GaveThisYear      1.0       1.0  \n",
              "AmtThisYear      50.0   10000.0  "
            ],
            "text/html": [
              "\n",
              "  <div id=\"df-12ebc06c-7e21-4dd9-b26c-7502c258873e\">\n",
              "    <div class=\"colab-df-container\">\n",
              "      <div>\n",
              "<style scoped>\n",
              "    .dataframe tbody tr th:only-of-type {\n",
              "        vertical-align: middle;\n",
              "    }\n",
              "\n",
              "    .dataframe tbody tr th {\n",
              "        vertical-align: top;\n",
              "    }\n",
              "\n",
              "    .dataframe thead th {\n",
              "        text-align: right;\n",
              "    }\n",
              "</style>\n",
              "<table border=\"1\" class=\"dataframe\">\n",
              "  <thead>\n",
              "    <tr style=\"text-align: right;\">\n",
              "      <th></th>\n",
              "      <th>count</th>\n",
              "      <th>mean</th>\n",
              "      <th>std</th>\n",
              "      <th>min</th>\n",
              "      <th>25%</th>\n",
              "      <th>50%</th>\n",
              "      <th>75%</th>\n",
              "      <th>max</th>\n",
              "    </tr>\n",
              "  </thead>\n",
              "  <tbody>\n",
              "    <tr>\n",
              "      <th>Woman</th>\n",
              "      <td>149457.0</td>\n",
              "      <td>0.544979</td>\n",
              "      <td>0.497974</td>\n",
              "      <td>0.0</td>\n",
              "      <td>0.0</td>\n",
              "      <td>1.0</td>\n",
              "      <td>1.0</td>\n",
              "      <td>1.0</td>\n",
              "    </tr>\n",
              "    <tr>\n",
              "      <th>Age</th>\n",
              "      <td>149457.0</td>\n",
              "      <td>45.256642</td>\n",
              "      <td>18.915539</td>\n",
              "      <td>16.0</td>\n",
              "      <td>29.0</td>\n",
              "      <td>44.0</td>\n",
              "      <td>59.0</td>\n",
              "      <td>90.0</td>\n",
              "    </tr>\n",
              "    <tr>\n",
              "      <th>Salary</th>\n",
              "      <td>149457.0</td>\n",
              "      <td>63898.012137</td>\n",
              "      <td>60194.539355</td>\n",
              "      <td>0.0</td>\n",
              "      <td>20300.0</td>\n",
              "      <td>43000.0</td>\n",
              "      <td>87000.0</td>\n",
              "      <td>250000.0</td>\n",
              "    </tr>\n",
              "    <tr>\n",
              "      <th>SeniorList</th>\n",
              "      <td>149457.0</td>\n",
              "      <td>4.415210</td>\n",
              "      <td>3.345957</td>\n",
              "      <td>0.0</td>\n",
              "      <td>1.0</td>\n",
              "      <td>4.0</td>\n",
              "      <td>7.0</td>\n",
              "      <td>10.0</td>\n",
              "    </tr>\n",
              "    <tr>\n",
              "      <th>NbActivities</th>\n",
              "      <td>149457.0</td>\n",
              "      <td>0.917361</td>\n",
              "      <td>1.334288</td>\n",
              "      <td>0.0</td>\n",
              "      <td>0.0</td>\n",
              "      <td>0.0</td>\n",
              "      <td>1.0</td>\n",
              "      <td>10.0</td>\n",
              "    </tr>\n",
              "    <tr>\n",
              "      <th>Referrals</th>\n",
              "      <td>149457.0</td>\n",
              "      <td>0.911459</td>\n",
              "      <td>1.412152</td>\n",
              "      <td>0.0</td>\n",
              "      <td>0.0</td>\n",
              "      <td>0.0</td>\n",
              "      <td>1.0</td>\n",
              "      <td>15.0</td>\n",
              "    </tr>\n",
              "    <tr>\n",
              "      <th>Recency</th>\n",
              "      <td>68433.0</td>\n",
              "      <td>2.750910</td>\n",
              "      <td>1.956686</td>\n",
              "      <td>1.0</td>\n",
              "      <td>1.0</td>\n",
              "      <td>2.0</td>\n",
              "      <td>4.0</td>\n",
              "      <td>10.0</td>\n",
              "    </tr>\n",
              "    <tr>\n",
              "      <th>Frequency</th>\n",
              "      <td>68433.0</td>\n",
              "      <td>1.985796</td>\n",
              "      <td>1.297829</td>\n",
              "      <td>1.0</td>\n",
              "      <td>1.0</td>\n",
              "      <td>2.0</td>\n",
              "      <td>3.0</td>\n",
              "      <td>10.0</td>\n",
              "    </tr>\n",
              "    <tr>\n",
              "      <th>Seniority</th>\n",
              "      <td>68433.0</td>\n",
              "      <td>4.674952</td>\n",
              "      <td>2.613877</td>\n",
              "      <td>1.0</td>\n",
              "      <td>2.0</td>\n",
              "      <td>4.0</td>\n",
              "      <td>7.0</td>\n",
              "      <td>10.0</td>\n",
              "    </tr>\n",
              "    <tr>\n",
              "      <th>TotalGift</th>\n",
              "      <td>68433.0</td>\n",
              "      <td>134.864685</td>\n",
              "      <td>372.981373</td>\n",
              "      <td>10.0</td>\n",
              "      <td>25.0</td>\n",
              "      <td>50.0</td>\n",
              "      <td>115.0</td>\n",
              "      <td>12160.0</td>\n",
              "    </tr>\n",
              "    <tr>\n",
              "      <th>MinGift</th>\n",
              "      <td>68433.0</td>\n",
              "      <td>42.502521</td>\n",
              "      <td>160.658491</td>\n",
              "      <td>10.0</td>\n",
              "      <td>10.0</td>\n",
              "      <td>20.0</td>\n",
              "      <td>30.0</td>\n",
              "      <td>10000.0</td>\n",
              "    </tr>\n",
              "    <tr>\n",
              "      <th>MaxGift</th>\n",
              "      <td>68433.0</td>\n",
              "      <td>106.674485</td>\n",
              "      <td>344.831631</td>\n",
              "      <td>10.0</td>\n",
              "      <td>20.0</td>\n",
              "      <td>30.0</td>\n",
              "      <td>75.0</td>\n",
              "      <td>10000.0</td>\n",
              "    </tr>\n",
              "    <tr>\n",
              "      <th>GaveLastYear</th>\n",
              "      <td>149457.0</td>\n",
              "      <td>0.208207</td>\n",
              "      <td>0.406027</td>\n",
              "      <td>0.0</td>\n",
              "      <td>0.0</td>\n",
              "      <td>0.0</td>\n",
              "      <td>0.0</td>\n",
              "      <td>1.0</td>\n",
              "    </tr>\n",
              "    <tr>\n",
              "      <th>AmtLastYear</th>\n",
              "      <td>149457.0</td>\n",
              "      <td>14.167085</td>\n",
              "      <td>121.163666</td>\n",
              "      <td>0.0</td>\n",
              "      <td>0.0</td>\n",
              "      <td>0.0</td>\n",
              "      <td>0.0</td>\n",
              "      <td>10000.0</td>\n",
              "    </tr>\n",
              "    <tr>\n",
              "      <th>Contact</th>\n",
              "      <td>149457.0</td>\n",
              "      <td>0.261286</td>\n",
              "      <td>0.439337</td>\n",
              "      <td>0.0</td>\n",
              "      <td>0.0</td>\n",
              "      <td>0.0</td>\n",
              "      <td>1.0</td>\n",
              "      <td>1.0</td>\n",
              "    </tr>\n",
              "    <tr>\n",
              "      <th>GaveThisYear</th>\n",
              "      <td>149457.0</td>\n",
              "      <td>1.000000</td>\n",
              "      <td>0.000000</td>\n",
              "      <td>1.0</td>\n",
              "      <td>1.0</td>\n",
              "      <td>1.0</td>\n",
              "      <td>1.0</td>\n",
              "      <td>1.0</td>\n",
              "    </tr>\n",
              "    <tr>\n",
              "      <th>AmtThisYear</th>\n",
              "      <td>149457.0</td>\n",
              "      <td>62.959012</td>\n",
              "      <td>227.894674</td>\n",
              "      <td>10.0</td>\n",
              "      <td>20.0</td>\n",
              "      <td>25.0</td>\n",
              "      <td>50.0</td>\n",
              "      <td>10000.0</td>\n",
              "    </tr>\n",
              "  </tbody>\n",
              "</table>\n",
              "</div>\n",
              "      <button class=\"colab-df-convert\" onclick=\"convertToInteractive('df-12ebc06c-7e21-4dd9-b26c-7502c258873e')\"\n",
              "              title=\"Convert this dataframe to an interactive table.\"\n",
              "              style=\"display:none;\">\n",
              "        \n",
              "  <svg xmlns=\"http://www.w3.org/2000/svg\" height=\"24px\"viewBox=\"0 0 24 24\"\n",
              "       width=\"24px\">\n",
              "    <path d=\"M0 0h24v24H0V0z\" fill=\"none\"/>\n",
              "    <path d=\"M18.56 5.44l.94 2.06.94-2.06 2.06-.94-2.06-.94-.94-2.06-.94 2.06-2.06.94zm-11 1L8.5 8.5l.94-2.06 2.06-.94-2.06-.94L8.5 2.5l-.94 2.06-2.06.94zm10 10l.94 2.06.94-2.06 2.06-.94-2.06-.94-.94-2.06-.94 2.06-2.06.94z\"/><path d=\"M17.41 7.96l-1.37-1.37c-.4-.4-.92-.59-1.43-.59-.52 0-1.04.2-1.43.59L10.3 9.45l-7.72 7.72c-.78.78-.78 2.05 0 2.83L4 21.41c.39.39.9.59 1.41.59.51 0 1.02-.2 1.41-.59l7.78-7.78 2.81-2.81c.8-.78.8-2.07 0-2.86zM5.41 20L4 18.59l7.72-7.72 1.47 1.35L5.41 20z\"/>\n",
              "  </svg>\n",
              "      </button>\n",
              "      \n",
              "  <style>\n",
              "    .colab-df-container {\n",
              "      display:flex;\n",
              "      flex-wrap:wrap;\n",
              "      gap: 12px;\n",
              "    }\n",
              "\n",
              "    .colab-df-convert {\n",
              "      background-color: #E8F0FE;\n",
              "      border: none;\n",
              "      border-radius: 50%;\n",
              "      cursor: pointer;\n",
              "      display: none;\n",
              "      fill: #1967D2;\n",
              "      height: 32px;\n",
              "      padding: 0 0 0 0;\n",
              "      width: 32px;\n",
              "    }\n",
              "\n",
              "    .colab-df-convert:hover {\n",
              "      background-color: #E2EBFA;\n",
              "      box-shadow: 0px 1px 2px rgba(60, 64, 67, 0.3), 0px 1px 3px 1px rgba(60, 64, 67, 0.15);\n",
              "      fill: #174EA6;\n",
              "    }\n",
              "\n",
              "    [theme=dark] .colab-df-convert {\n",
              "      background-color: #3B4455;\n",
              "      fill: #D2E3FC;\n",
              "    }\n",
              "\n",
              "    [theme=dark] .colab-df-convert:hover {\n",
              "      background-color: #434B5C;\n",
              "      box-shadow: 0px 1px 3px 1px rgba(0, 0, 0, 0.15);\n",
              "      filter: drop-shadow(0px 1px 2px rgba(0, 0, 0, 0.3));\n",
              "      fill: #FFFFFF;\n",
              "    }\n",
              "  </style>\n",
              "\n",
              "      <script>\n",
              "        const buttonEl =\n",
              "          document.querySelector('#df-12ebc06c-7e21-4dd9-b26c-7502c258873e button.colab-df-convert');\n",
              "        buttonEl.style.display =\n",
              "          google.colab.kernel.accessAllowed ? 'block' : 'none';\n",
              "\n",
              "        async function convertToInteractive(key) {\n",
              "          const element = document.querySelector('#df-12ebc06c-7e21-4dd9-b26c-7502c258873e');\n",
              "          const dataTable =\n",
              "            await google.colab.kernel.invokeFunction('convertToInteractive',\n",
              "                                                     [key], {});\n",
              "          if (!dataTable) return;\n",
              "\n",
              "          const docLinkHtml = 'Like what you see? Visit the ' +\n",
              "            '<a target=\"_blank\" href=https://colab.research.google.com/notebooks/data_table.ipynb>data table notebook</a>'\n",
              "            + ' to learn more about interactive tables.';\n",
              "          element.innerHTML = '';\n",
              "          dataTable['output_type'] = 'display_data';\n",
              "          await google.colab.output.renderOutput(dataTable, element);\n",
              "          const docLink = document.createElement('div');\n",
              "          docLink.innerHTML = docLinkHtml;\n",
              "          element.appendChild(docLink);\n",
              "        }\n",
              "      </script>\n",
              "    </div>\n",
              "  </div>\n",
              "  "
            ]
          },
          "metadata": {},
          "execution_count": 15
        }
      ]
    },
    {
      "cell_type": "code",
      "source": [
        "import matplotlib.pyplot as plt\n",
        "import seaborn as sns\n",
        "plt.figure(figsize=(16, 6))\n",
        "heatmap = sns.heatmap(data_merge.corr(), vmin=-1, vmax=1, annot=True)\n",
        "heatmap.set_title('Correlation Heatmap', fontdict={'fontsize':12}, pad=12);"
      ],
      "metadata": {
        "colab": {
          "base_uri": "https://localhost:8080/",
          "height": 423
        },
        "id": "sgFzRHFgchjg",
        "outputId": "3f580df1-0dbc-4a4b-983c-e7a29399828d"
      },
      "id": "sgFzRHFgchjg",
      "execution_count": 17,
      "outputs": [
        {
          "output_type": "display_data",
          "data": {
            "text/plain": [
              "<Figure size 1152x432 with 2 Axes>"
            ],
            "image/png": "[encoded data removed]"
          },
          "metadata": {
            "needs_background": "light"
          }
        }
      ]
    },
    {
      "cell_type": "code",
      "source": [
        "hists = data_merge.hist(bins=3)"
      ],
      "metadata": {
        "colab": {
          "base_uri": "https://localhost:8080/",
          "height": 281
        },
        "id": "n2gi2IB4cmaB",
        "outputId": "a7fcd102-8800-4f92-aa9d-67e60ea28a2b"
      },
      "id": "n2gi2IB4cmaB",
      "execution_count": 18,
      "outputs": [
        {
          "output_type": "display_data",
          "data": {
            "text/plain": [
              "<Figure size 432x288 with 20 Axes>"
            ],
            "image/png": "[encoded data removed]"
          },
          "metadata": {
            "needs_background": "light"
          }
        }
      ]
    },
    {
      "cell_type": "markdown",
      "id": "9b4a77b7-6c92-44e7-a936-284a643edd13",
      "metadata": {
        "id": "9b4a77b7-6c92-44e7-a936-284a643edd13"
      },
      "source": [
        "## Treating Missing Values\n",
        "\n",
        ">Please be aware that deleting all missing values can induce a selection bias. \n",
        "Some missing values are very informative. For example, when MinGift is missing, it means that the donor never gave in the past 10 years (leading to but excluding last year). Instead of deleting this information, replacing it by 0 is more appropriate!\n",
        "\n",
        "> A good understanding of the business case and the data can help you come up with more appropriate strategies to deal with missing values."
      ]
    },
    {
      "cell_type": "code",
      "source": [
        "#Libraries\n",
        "import math"
      ],
      "metadata": {
        "id": "VJjtyDJnczXM"
      },
      "id": "VJjtyDJnczXM",
      "execution_count": 19,
      "outputs": []
    },
    {
      "cell_type": "code",
      "execution_count": 20,
      "id": "8189f447-0c2a-42d0-964e-11fa43b82411",
      "metadata": {
        "collapsed": true,
        "id": "8189f447-0c2a-42d0-964e-11fa43b82411"
      },
      "outputs": [],
      "source": [
        "# In this case, we are replacing MinGift by 0.\n",
        "\n",
        "data_merge[['MinGift']] = data_merge[['MinGift']].fillna(value=0)  \n",
        "data_merge[['MaxGift']] = data_merge[['MaxGift']].fillna(value=data_merge['MaxGift'].median())\n",
        "\n"
      ]
    },
    {
      "cell_type": "code",
      "source": [
        "# For non specific numerical data we are filling with  the mean\n",
        "\n",
        "data_merge[['Recency']] = data_merge[['Recency']].fillna(math.floor(data_merge['Recency'].mean()))  \n",
        "data_merge[['Frequency']] = data_merge[['Frequency']].fillna(math.floor(data_merge['Frequency'].mean()))  \n",
        "data_merge[['Seniority']] = data_merge[['Seniority']].fillna(math.floor(data_merge['Seniority'].mean()))  \n",
        "data_merge[['Referrals']] = data_merge[['Referrals']].fillna(math.floor(data_merge['Referrals'].mean()))"
      ],
      "metadata": {
        "id": "Ay6dqb5CikaD"
      },
      "id": "Ay6dqb5CikaD",
      "execution_count": 21,
      "outputs": []
    },
    {
      "cell_type": "code",
      "source": [
        "# For categorical data we are filling with the mode \n",
        "\n",
        "data_merge[['City']] = data_merge[['City']].fillna(value=\"City\")  \n",
        "data_merge= pd.get_dummies(data_merge, columns= ['City'])"
      ],
      "metadata": {
        "id": "oe7OVnrEzTOO"
      },
      "id": "oe7OVnrEzTOO",
      "execution_count": 22,
      "outputs": []
    },
    {
      "cell_type": "code",
      "source": [
        "data_merge[['Education']] = data_merge[['Education']].fillna(value=\"University / College\")  \n",
        "data_merge= pd.get_dummies(data_merge, columns= ['Education'])"
      ],
      "metadata": {
        "id": "lC1IrFug6V0t"
      },
      "id": "lC1IrFug6V0t",
      "execution_count": 23,
      "outputs": []
    },
    {
      "cell_type": "markdown",
      "source": [
        "## Normalization"
      ],
      "metadata": {
        "id": "o6wN44L2dRoR"
      },
      "id": "o6wN44L2dRoR"
    },
    {
      "cell_type": "code",
      "source": [
        "from sklearn import preprocessing\n",
        "\n",
        "x_scale = preprocessing.scale(data_merge)"
      ],
      "metadata": {
        "id": "ey_9vl1sdVGZ"
      },
      "id": "ey_9vl1sdVGZ",
      "execution_count": 24,
      "outputs": []
    },
    {
      "cell_type": "code",
      "source": [
        "df = pd.DataFrame(x_scale, columns = data_merge.columns)"
      ],
      "metadata": {
        "id": "Bq1jW-K0dc9w"
      },
      "id": "Bq1jW-K0dc9w",
      "execution_count": 25,
      "outputs": []
    },
    {
      "cell_type": "code",
      "source": [
        "hists = df.hist(bins=3)"
      ],
      "metadata": {
        "colab": {
          "base_uri": "https://localhost:8080/",
          "height": 281
        },
        "id": "RREI5XAsdgo3",
        "outputId": "ca70bdbd-3805-4d7a-c2b7-83c8d800c69c"
      },
      "id": "RREI5XAsdgo3",
      "execution_count": 26,
      "outputs": [
        {
          "output_type": "display_data",
          "data": {
            "text/plain": [
              "<Figure size 432x288 with 25 Axes>"
            ],
            "image/png": "[encoded data removed]"
          },
          "metadata": {
            "needs_background": "light"
          }
        }
      ]
    },
    {
      "cell_type": "markdown",
      "source": [
        "## Duplicates and outliers"
      ],
      "metadata": {
        "id": "EeODPui7tKtq"
      },
      "id": "EeODPui7tKtq"
    },
    {
      "cell_type": "code",
      "source": [
        "# Removing duplicates\n",
        "data_merge= data_merge.drop_duplicates()\n",
        "data_merge.shape"
      ],
      "metadata": {
        "colab": {
          "base_uri": "https://localhost:8080/"
        },
        "id": "VbnihJu7tgGa",
        "outputId": "1a937729-1730-4185-dd59-69ccbc93a61c"
      },
      "id": "VbnihJu7tgGa",
      "execution_count": 27,
      "outputs": [
        {
          "output_type": "execute_result",
          "data": {
            "text/plain": [
              "(149432, 24)"
            ]
          },
          "metadata": {},
          "execution_count": 27
        }
      ]
    },
    {
      "cell_type": "code",
      "source": [
        "data_merge.boxplot()\n"
      ],
      "metadata": {
        "colab": {
          "base_uri": "https://localhost:8080/",
          "height": 338
        },
        "id": "Om3Ph9giJC9u",
        "outputId": "b4a0058c-1c52-4a48-b749-efba03d095e3"
      },
      "id": "Om3Ph9giJC9u",
      "execution_count": 28,
      "outputs": [
        {
          "output_type": "stream",
          "name": "stderr",
          "text": [
            "/usr/local/lib/python3.8/dist-packages/matplotlib/cbook/__init__.py:1376: VisibleDeprecationWarning: Creating an ndarray from ragged nested sequences (which is a list-or-tuple of lists-or-tuples-or ndarrays with different lengths or shapes) is deprecated. If you meant to do this, you must specify 'dtype=object' when creating the ndarray.\n",
            "  X = np.atleast_1d(X.T if isinstance(X, np.ndarray) else np.asarray(X))\n"
          ]
        },
        {
          "output_type": "execute_result",
          "data": {
            "text/plain": [
              "<matplotlib.axes._subplots.AxesSubplot at 0x7fd10e022340>"
            ]
          },
          "metadata": {},
          "execution_count": 28
        },
        {
          "output_type": "display_data",
          "data": {
            "text/plain": [
              "<Figure size 432x288 with 1 Axes>"
            ],
            "image/png": "[encoded data removed]"
          },
          "metadata": {
            "needs_background": "light"
          }
        }
      ]
    },
    {
      "cell_type": "code",
      "source": [
        "# Function to identify and remove outliers\n",
        "def outliers(col):\n",
        "  global data_merge\n",
        "  percentile25 = data_merge[col].quantile(0.25)\n",
        "  percentile75 = data_merge[col].quantile(0.75)\n",
        "  iqr = percentile75 - percentile25\n",
        "  upper_limit = percentile75 + 1.5 * iqr\n",
        "  lower_limit = percentile25 - 1.5 * iqr\n",
        "  data_merge[data_merge[col] > upper_limit]\n",
        "  data_merge[data_merge[col] < lower_limit]\n",
        "  data_merge = data_merge[data_merge[col] < upper_limit]\n",
        "  "
      ],
      "metadata": {
        "id": "5IYG12GZK5tT"
      },
      "id": "5IYG12GZK5tT",
      "execution_count": 29,
      "outputs": []
    },
    {
      "cell_type": "code",
      "source": [
        "col_names= ['Salary']\n",
        "for i in col_names:\n",
        "  outliers(i)\n",
        "data_merge.shape"
      ],
      "metadata": {
        "colab": {
          "base_uri": "https://localhost:8080/"
        },
        "id": "uIDYjk_pKMZ6",
        "outputId": "93051b24-2c3b-41c2-d5fb-6fc71c29bf8a"
      },
      "id": "uIDYjk_pKMZ6",
      "execution_count": 30,
      "outputs": [
        {
          "output_type": "execute_result",
          "data": {
            "text/plain": [
              "(139231, 24)"
            ]
          },
          "metadata": {},
          "execution_count": 30
        }
      ]
    },
    {
      "cell_type": "markdown",
      "source": [
        "## Feature selection"
      ],
      "metadata": {
        "id": "DFrfhHgWSTDe"
      },
      "id": "DFrfhHgWSTDe"
    },
    {
      "cell_type": "code",
      "source": [
        "# Feature Extraction with PCA\n",
        "import numpy\n",
        "from pandas import read_csv\n",
        "from sklearn.decomposition import PCA\n",
        "# load data\n",
        "\n",
        "to_delete = [\"AmtThisYear\",\"TotalGift\"]\n",
        "array = df.values\n",
        "X = df.drop(columns=to_delete)\n",
        "y =  data_merge['AmtThisYear']\n",
        "# feature extraction\n",
        "pca = PCA(n_components=5)\n",
        "fit = pca.fit(X)\n",
        "# summarize components\n",
        "print(\"Explained Variance: %s\" % fit.explained_variance_ratio_)\n",
        "print(fit.components_)"
      ],
      "metadata": {
        "colab": {
          "base_uri": "https://localhost:8080/"
        },
        "id": "7G0EB7L-WATO",
        "outputId": "80f55084-ec05-4b6d-e959-23a232b2a391"
      },
      "id": "7G0EB7L-WATO",
      "execution_count": 37,
      "outputs": [
        {
          "output_type": "stream",
          "name": "stdout",
          "text": [
            "Explained Variance: [0.15313856 0.09756621 0.07153652 0.06882178 0.06681694]\n",
            "[[-5.49758829e-03  6.24145242e-03  1.30806016e-02  4.14080444e-01\n",
            "   4.45022221e-01  4.26571099e-01  1.63029054e-01  4.42341902e-01\n",
            "   4.12683545e-01  6.06810286e-02  1.50767834e-01  1.19082597e-01\n",
            "   4.28008694e-02 -9.73156888e-02  0.00000000e+00  1.42615644e-02\n",
            "   2.38991192e-02 -4.65804398e-02  3.01713870e-03 -9.50190368e-03\n",
            "  -1.83852502e-02  2.14273851e-02]\n",
            " [-4.26908365e-02 -1.10417925e-01  2.73080107e-01 -3.16003229e-02\n",
            "  -1.11928397e-02 -9.22734769e-03 -3.60334550e-02 -7.19605203e-03\n",
            "  -3.53502477e-02  3.84489900e-02  4.52850668e-02  1.71092747e-02\n",
            "   2.44572461e-02 -1.85796917e-02  0.00000000e+00 -6.00636484e-02\n",
            "   4.22422137e-02 -1.41691180e-02  3.75479503e-02 -1.11160962e-01\n",
            "  -6.51524594e-01  6.77491643e-01]\n",
            " [-3.63563426e-02  3.98571043e-02  5.56226857e-02 -1.17147232e-01\n",
            "   3.71965145e-02  3.64851688e-02 -2.37128922e-01  6.20909740e-02\n",
            "  -1.46513568e-01  1.07273008e-01  1.39717596e-01  1.69050005e-01\n",
            "   1.04356615e-01 -1.94048749e-01  0.00000000e+00  6.75523641e-01\n",
            "  -6.83993669e-03 -1.66187057e-01 -5.50980521e-01  9.96155878e-03\n",
            "  -1.11748268e-02  7.31419964e-03]\n",
            " [ 7.02298848e-02 -3.00376237e-02  6.11388232e-02 -1.01069601e-01\n",
            "   2.54120625e-04  2.60173550e-03 -2.04379884e-01  2.08634827e-02\n",
            "  -2.00583298e-01  6.21085169e-01  5.88274376e-01  1.22514864e-01\n",
            "   9.46777181e-02 -2.27344842e-02  0.00000000e+00 -2.16829454e-01\n",
            "   5.02580669e-02 -9.66183034e-02  2.57643764e-01 -1.85612833e-02\n",
            "   9.33398313e-02 -8.45475352e-02]\n",
            " [ 9.25588729e-02 -1.03841974e-01  1.81461175e-03  1.64818318e-01\n",
            "  -1.31660479e-01 -1.26558676e-01  4.78675015e-01 -1.91779951e-01\n",
            "   1.84894763e-01  3.51183196e-01  2.56280513e-01 -3.57178688e-01\n",
            "  -2.36176678e-01  1.91795709e-01 -0.00000000e+00  1.65010607e-01\n",
            "  -9.78080595e-02  2.76496923e-01 -3.10006451e-01 -1.02986253e-03\n",
            "  -2.78038789e-02  2.75645328e-02]]\n"
          ]
        }
      ]
    },
    {
      "cell_type": "code",
      "source": [
        "from sklearn.svm import LinearSVC\n",
        "from sklearn.feature_selection import SelectFromModel\n",
        "from sklearn.tree import DecisionTreeRegressor\n",
        "import matplotlib.pyplot as plt\n",
        "from sklearn import linear_model\n",
        "import numpy as np\n",
        "\n",
        "\n",
        "to_delete = [\"AmtThisYear\",\"TotalGift\"]\n",
        "X= data_merge.drop(columns=to_delete)\n",
        "y =  data_merge['AmtThisYear']\n",
        "\n",
        "sel = SelectFromModel(DecisionTreeRegressor(max_depth=3))\n",
        "sel.fit(X, y)\n",
        "\n",
        "importances = sel.estimator_.feature_importances_\n",
        "names = sel.estimator_.feature_names_in_\n",
        "\n",
        "indices = np.argsort(importances)[::-1]\n",
        "# X is the train data used to fit the model \n",
        "plt.figure(figsize=(10,5))\n",
        "plt.title(\"Feature importances\")\n",
        "plt.bar(range(X.shape[1]), importances[indices], color=\"r\", align=\"center\")\n",
        "plt.xticks(range(X.shape[1]), [names[i] for i in indices])\n",
        "plt.xlim([-1, X.shape[1]])\n",
        "plt.show()\n",
        "\n"
      ],
      "metadata": {
        "id": "9YmqKscm5Sla",
        "colab": {
          "base_uri": "https://localhost:8080/",
          "height": 337
        },
        "outputId": "09a844c6-c146-4167-f206-a7371f67ff33"
      },
      "id": "9YmqKscm5Sla",
      "execution_count": 38,
      "outputs": [
        {
          "output_type": "display_data",
          "data": {
            "text/plain": [
              "<Figure size 720x360 with 1 Axes>"
            ],
            "image/png": "[encoded data removed]"
          },
          "metadata": {
            "needs_background": "light"
          }
        }
      ]
    },
    {
      "cell_type": "code",
      "source": [
        "print(names)"
      ],
      "metadata": {
        "colab": {
          "base_uri": "https://localhost:8080/"
        },
        "id": "H-nJrSZgOafF",
        "outputId": "217c603b-a5bc-40d8-b8eb-cc9fc8bcdaf3"
      },
      "id": "H-nJrSZgOafF",
      "execution_count": 39,
      "outputs": [
        {
          "output_type": "stream",
          "name": "stdout",
          "text": [
            "['Woman' 'Age' 'Salary' 'SeniorList' 'NbActivities' 'Referrals' 'Recency'\n",
            " 'Frequency' 'Seniority' 'MinGift' 'MaxGift' 'GaveLastYear' 'AmtLastYear'\n",
            " 'Contact' 'GaveThisYear' 'City_City' 'City_Downtown' 'City_Rural'\n",
            " 'City_Suburban' 'Education_Elementary' 'Education_High School'\n",
            " 'Education_University / College']\n"
          ]
        }
      ]
    },
    {
      "cell_type": "markdown",
      "id": "1137c438-65da-4f16-94b8-dee2f83e3abe",
      "metadata": {
        "id": "1137c438-65da-4f16-94b8-dee2f83e3abe"
      },
      "source": [
        "## Data Partition"
      ]
    },
    {
      "cell_type": "code",
      "execution_count": 40,
      "id": "4f0675fa-f72b-4786-bce4-0cee646d258a",
      "metadata": {
        "collapsed": true,
        "id": "4f0675fa-f72b-4786-bce4-0cee646d258a"
      },
      "outputs": [],
      "source": [
        "# The code below is an illustration on how to sample data on train and validation samples.\n",
        "\n",
        "from sklearn.model_selection import train_test_split\n",
        "train, validation = train_test_split(data_merge, test_size=0.2,random_state=1) # you can change the percentage\n",
        "#train.sample(5)"
      ]
    },
    {
      "cell_type": "markdown",
      "id": "dfc2e8f5-9790-46bb-88f9-8517fea53e26",
      "metadata": {
        "id": "dfc2e8f5-9790-46bb-88f9-8517fea53e26"
      },
      "source": [
        "\n",
        "## Prebuilt Models\n",
        "\n",
        "***\n"
      ]
    },
    {
      "cell_type": "code",
      "source": [
        "X_train = train[['Age', 'Salary','Contact','MinGift', 'GaveLastYear','AmtLastYear','Woman', 'NbActivities','Referrals']] \n",
        "Y_train = train['AmtThisYear']\n",
        "X_valid = validation[['Age', 'Salary','Contact','MinGift', 'GaveLastYear','AmtLastYear','Woman', 'NbActivities','Referrals']] \n",
        "Y_valid = validation['AmtThisYear']"
      ],
      "metadata": {
        "id": "H4VnxrSQ2PSu"
      },
      "id": "H4VnxrSQ2PSu",
      "execution_count": 41,
      "outputs": []
    },
    {
      "cell_type": "markdown",
      "source": [
        "## Model training and optimization"
      ],
      "metadata": {
        "id": "qL_CsYW8e-b7"
      },
      "id": "qL_CsYW8e-b7"
    },
    {
      "cell_type": "markdown",
      "source": [
        "### Linear model"
      ],
      "metadata": {
        "id": "8yMFLM86fCPs"
      },
      "id": "8yMFLM86fCPs"
    },
    {
      "cell_type": "code",
      "execution_count": 42,
      "id": "9f33ea4c",
      "metadata": {
        "collapsed": true,
        "id": "9f33ea4c",
        "colab": {
          "base_uri": "https://localhost:8080/"
        },
        "outputId": "6cecf826-a49a-4ed7-8e58-9701f075bbab"
      },
      "outputs": [
        {
          "output_type": "stream",
          "name": "stdout",
          "text": [
            "[56.34986201 50.88217277 56.36931033 ... 65.35128635 72.55695747\n",
            " 65.25860137]\n"
          ]
        }
      ],
      "source": [
        "from sklearn import linear_model\n",
        "\n",
        "regr = linear_model.LinearRegression()\n",
        "\n",
        "regr.fit(X_train,Y_train)\n",
        "\n",
        "regr_predict=regr.predict(X_valid)\n",
        "\n",
        "print(regr_predict)"
      ]
    },
    {
      "cell_type": "code",
      "execution_count": 43,
      "id": "a6ff2946",
      "metadata": {
        "collapsed": true,
        "id": "a6ff2946",
        "colab": {
          "base_uri": "https://localhost:8080/"
        },
        "outputId": "62594508-331b-43bf-c838-d870a0dd6922"
      },
      "outputs": [
        {
          "output_type": "stream",
          "name": "stdout",
          "text": [
            "59.9966483808903\n",
            "45544.27512167518\n",
            "213.41104732809683\n"
          ]
        }
      ],
      "source": [
        "#you can change the criteria\n",
        "\n",
        "import numpy as np\n",
        "from sklearn import metrics\n",
        "#MAE\n",
        "print(metrics.mean_absolute_error(Y_valid,regr_predict))\n",
        "#MSE\n",
        "print(metrics.mean_squared_error(Y_valid,regr_predict))\n",
        "#RMSE\n",
        "print(np.sqrt(metrics.mean_squared_error(Y_valid,regr_predict)))"
      ]
    },
    {
      "cell_type": "markdown",
      "id": "a6f78891",
      "metadata": {
        "id": "a6f78891"
      },
      "source": [
        "### Regression Tree Model（Py）"
      ]
    },
    {
      "cell_type": "code",
      "execution_count": 44,
      "id": "0560fcdd",
      "metadata": {
        "collapsed": true,
        "id": "0560fcdd",
        "colab": {
          "base_uri": "https://localhost:8080/"
        },
        "outputId": "8959de4f-f3ae-4db4-947a-c98db465bf95"
      },
      "outputs": [
        {
          "output_type": "stream",
          "name": "stdout",
          "text": [
            "[ 51.55765595  43.07356898  63.14814815 ...  65.29528339 102.27434257\n",
            "  65.29528339]\n"
          ]
        }
      ],
      "source": [
        "from sklearn.tree import DecisionTreeRegressor\n",
        "\n",
        "DT_model = DecisionTreeRegressor(max_depth=6, random_state=0).fit(X_train,Y_train)\n",
        "DT_predict = DT_model.predict(X_valid) #Predictions on Testing data\n",
        "print(DT_predict)"
      ]
    },
    {
      "cell_type": "code",
      "source": [
        "#you can change the criteria\n",
        "#MAE\n",
        "print(metrics.mean_absolute_error(Y_valid,DT_predict))\n",
        "#MSE\n",
        "print(metrics.mean_squared_error(Y_valid,DT_predict))\n",
        "#RMSE\n",
        "print(np.sqrt(metrics.mean_squared_error(Y_valid,DT_predict)))"
      ],
      "metadata": {
        "id": "I4L732CRz1ux",
        "colab": {
          "base_uri": "https://localhost:8080/"
        },
        "outputId": "0042d99b-f3f2-4b3f-8fb7-ed1d17886d30"
      },
      "id": "I4L732CRz1ux",
      "execution_count": 45,
      "outputs": [
        {
          "output_type": "stream",
          "name": "stdout",
          "text": [
            "60.125775610347276\n",
            "49481.078066154936\n",
            "222.44342666429804\n"
          ]
        }
      ]
    },
    {
      "cell_type": "code",
      "source": [
        "import seaborn as sns\n",
        "sns.distplot(Y_valid-DT_predict)"
      ],
      "metadata": {
        "id": "trvMtx7eGLg1",
        "colab": {
          "base_uri": "https://localhost:8080/",
          "height": 351
        },
        "outputId": "57779698-c979-4e49-8357-5ddef7e159b7"
      },
      "id": "trvMtx7eGLg1",
      "execution_count": 46,
      "outputs": [
        {
          "output_type": "stream",
          "name": "stderr",
          "text": [
            "/usr/local/lib/python3.8/dist-packages/seaborn/distributions.py:2619: FutureWarning: `distplot` is a deprecated function and will be removed in a future version. Please adapt your code to use either `displot` (a figure-level function with similar flexibility) or `histplot` (an axes-level function for histograms).\n",
            "  warnings.warn(msg, FutureWarning)\n"
          ]
        },
        {
          "output_type": "execute_result",
          "data": {
            "text/plain": [
              "<matplotlib.axes._subplots.AxesSubplot at 0x7fd1071de370>"
            ]
          },
          "metadata": {},
          "execution_count": 46
        },
        {
          "output_type": "display_data",
          "data": {
            "text/plain": [
              "<Figure size 432x288 with 1 Axes>"
            ],
            "image/png": "[encoded data removed]"
          },
          "metadata": {
            "needs_background": "light"
          }
        }
      ]
    },
    {
      "cell_type": "markdown",
      "source": [
        "#### Optimization"
      ],
      "metadata": {
        "id": "33ykiaFYfHkY"
      },
      "id": "33ykiaFYfHkY"
    },
    {
      "cell_type": "code",
      "source": [
        "parameters={\"splitter\":[\"best\",\"random\"],\n",
        "            \"max_depth\" : [1,3,5,7],\n",
        "           \"min_samples_leaf\":[1,2,3,4],\n",
        "           \"min_weight_fraction_leaf\":[0.1,0.2,0.3,0.4,0.5,0.6],\n",
        "           \"max_features\":[\"log2\",\"sqrt\"],\n",
        "           \"max_leaf_nodes\":[10,20,30,40,50,60] }"
      ],
      "metadata": {
        "id": "TYs2AduXGkG7"
      },
      "id": "TYs2AduXGkG7",
      "execution_count": 47,
      "outputs": []
    },
    {
      "cell_type": "code",
      "source": [
        "from sklearn.model_selection import GridSearchCV\n",
        "tuning_model=GridSearchCV(DT_model,param_grid=parameters,scoring='neg_mean_squared_error',cv=3,verbose=3)"
      ],
      "metadata": {
        "id": "3eHEJ7mfHr3w"
      },
      "id": "3eHEJ7mfHr3w",
      "execution_count": 48,
      "outputs": []
    },
    {
      "cell_type": "code",
      "source": [
        "#tuning_model.fit(X_train, Y_train)\n",
        "#tuning_model.best_params_"
      ],
      "metadata": {
        "id": "upHJ-f8xgRfC"
      },
      "id": "upHJ-f8xgRfC",
      "execution_count": 49,
      "outputs": []
    },
    {
      "cell_type": "code",
      "source": [
        "DT_model2 = DecisionTreeRegressor(max_depth=5, max_features= 'log2',max_leaf_nodes= 10,min_samples_leaf= 1,min_weight_fraction_leaf= 0.1,splitter='best').fit(X_train,Y_train)\n",
        "DT_predict2 = DT_model2.predict(X_valid) #Predictions on Testing data\n",
        "print(DT_predict2)"
      ],
      "metadata": {
        "id": "vK2UivIShxmB",
        "colab": {
          "base_uri": "https://localhost:8080/"
        },
        "outputId": "9af49f89-2dc0-4e06-c1ec-99a23eb3b2f1"
      },
      "id": "vK2UivIShxmB",
      "execution_count": 50,
      "outputs": [
        {
          "output_type": "stream",
          "name": "stdout",
          "text": [
            "[ 55.52190048  56.44304292  58.88734474 ...  56.44304292 128.70199752\n",
            "  56.44304292]\n"
          ]
        }
      ]
    },
    {
      "cell_type": "code",
      "source": [
        "#MAE\n",
        "print(metrics.mean_absolute_error(Y_valid,DT_predict2))\n",
        "#MSE\n",
        "print(metrics.mean_squared_error(Y_valid,DT_predict2))\n",
        "#RMSE\n",
        "print(np.sqrt(metrics.mean_squared_error(Y_valid,DT_predict2)))"
      ],
      "metadata": {
        "id": "Ng70Nh3tiarS",
        "colab": {
          "base_uri": "https://localhost:8080/"
        },
        "outputId": "6080417d-a220-4225-9a0e-9759d0937d90"
      },
      "id": "Ng70Nh3tiarS",
      "execution_count": 51,
      "outputs": [
        {
          "output_type": "stream",
          "name": "stdout",
          "text": [
            "59.52017719752897\n",
            "45355.78402794005\n",
            "212.9689743318027\n"
          ]
        }
      ]
    },
    {
      "cell_type": "markdown",
      "source": [
        "### XGBoost"
      ],
      "metadata": {
        "id": "vboHwO1pzjU2"
      },
      "id": "vboHwO1pzjU2"
    },
    {
      "cell_type": "code",
      "source": [
        "from xgboost.sklearn import XGBRegressor\n",
        "\n",
        "XGB_model = XGBRegressor(booster = \"gbtree\", learning_rate= 0.07 ,max_depth = 7, subsample= 0.6)\n",
        "\n",
        "XGB_model.fit(X_train,Y_train)\n",
        "XGB_model.score(X_train,Y_train)\n",
        "XGB_predict=XGB_model.predict(X_valid)"
      ],
      "metadata": {
        "id": "TdXaD-YSzuBy",
        "colab": {
          "base_uri": "https://localhost:8080/"
        },
        "outputId": "0bdfe8e9-b651-4c37-cd24-0c818c2392d7"
      },
      "id": "TdXaD-YSzuBy",
      "execution_count": 52,
      "outputs": [
        {
          "output_type": "stream",
          "name": "stdout",
          "text": [
            "[14:34:48] WARNING: /workspace/src/objective/regression_obj.cu:152: reg:linear is now deprecated in favor of reg:squarederror.\n"
          ]
        }
      ]
    },
    {
      "cell_type": "code",
      "execution_count": 53,
      "id": "a634a11d",
      "metadata": {
        "collapsed": true,
        "id": "a634a11d",
        "colab": {
          "base_uri": "https://localhost:8080/"
        },
        "outputId": "ed518d1f-5d7b-4225-9c71-83aebd598a84"
      },
      "outputs": [
        {
          "output_type": "stream",
          "name": "stdout",
          "text": [
            "60.337660487418965\n",
            "46439.11512133473\n",
            "215.49736685475935\n"
          ]
        }
      ],
      "source": [
        "#you can change the criteria\n",
        "#MAE\n",
        "print(metrics.mean_absolute_error(Y_valid,XGB_predict))\n",
        "#MSE\n",
        "print(metrics.mean_squared_error(Y_valid,XGB_predict))\n",
        "#RMSE\n",
        "print(np.sqrt(metrics.mean_squared_error(Y_valid,XGB_predict)))"
      ]
    },
    {
      "cell_type": "markdown",
      "source": [
        "#### Optimization"
      ],
      "metadata": {
        "id": "QbCUG-y2fb7C"
      },
      "id": "QbCUG-y2fb7C"
    },
    {
      "cell_type": "code",
      "source": [
        "!pip install optuna"
      ],
      "metadata": {
        "colab": {
          "base_uri": "https://localhost:8080/"
        },
        "id": "X6ufkMRokcJN",
        "outputId": "487d6f45-5631-4eb4-b5a9-cf62ae556dc2"
      },
      "id": "X6ufkMRokcJN",
      "execution_count": 55,
      "outputs": [
        {
          "output_type": "stream",
          "name": "stdout",
          "text": [
            "Looking in indexes: https://pypi.org/simple, https://us-python.pkg.dev/colab-wheels/public/simple/\n",
            "Collecting optuna\n",
            "  Downloading optuna-3.0.4-py3-none-any.whl (348 kB)\n",
            "\u001b[K     |████████████████████████████████| 348 kB 4.1 MB/s \n",
            "\u001b[?25hRequirement already satisfied: PyYAML in /usr/local/lib/python3.8/dist-packages (from optuna) (6.0)\n",
            "Requirement already satisfied: scipy<1.9.0,>=1.7.0 in /usr/local/lib/python3.8/dist-packages (from optuna) (1.7.3)\n",
            "Collecting cliff\n",
            "  Downloading cliff-4.1.0-py3-none-any.whl (81 kB)\n",
            "\u001b[K     |████████████████████████████████| 81 kB 8.0 MB/s \n",
            "\u001b[?25hRequirement already satisfied: tqdm in /usr/local/lib/python3.8/dist-packages (from optuna) (4.64.1)\n",
            "Requirement already satisfied: sqlalchemy>=1.3.0 in /usr/local/lib/python3.8/dist-packages (from optuna) (1.4.44)\n",
            "Collecting colorlog\n",
            "  Downloading colorlog-6.7.0-py2.py3-none-any.whl (11 kB)\n",
            "Requirement already satisfied: importlib-metadata<5.0.0 in /usr/local/lib/python3.8/dist-packages (from optuna) (4.13.0)\n",
            "Collecting cmaes>=0.8.2\n",
            "  Downloading cmaes-0.9.0-py3-none-any.whl (23 kB)\n",
            "Requirement already satisfied: packaging>=20.0 in /usr/local/lib/python3.8/dist-packages (from optuna) (21.3)\n",
            "Requirement already satisfied: numpy in /usr/local/lib/python3.8/dist-packages (from optuna) (1.21.6)\n",
            "Collecting alembic>=1.5.0\n",
            "  Downloading alembic-1.8.1-py3-none-any.whl (209 kB)\n",
            "\u001b[K     |████████████████████████████████| 209 kB 45.9 MB/s \n",
            "\u001b[?25hCollecting Mako\n",
            "  Downloading Mako-1.2.4-py3-none-any.whl (78 kB)\n",
            "\u001b[K     |████████████████████████████████| 78 kB 6.7 MB/s \n",
            "\u001b[?25hRequirement already satisfied: importlib-resources in /usr/local/lib/python3.8/dist-packages (from alembic>=1.5.0->optuna) (5.10.0)\n",
            "Requirement already satisfied: zipp>=0.5 in /usr/local/lib/python3.8/dist-packages (from importlib-metadata<5.0.0->optuna) (3.10.0)\n",
            "Requirement already satisfied: pyparsing!=3.0.5,>=2.0.2 in /usr/local/lib/python3.8/dist-packages (from packaging>=20.0->optuna) (3.0.9)\n",
            "Requirement already satisfied: greenlet!=0.4.17 in /usr/local/lib/python3.8/dist-packages (from sqlalchemy>=1.3.0->optuna) (2.0.1)\n",
            "Collecting cmd2>=1.0.0\n",
            "  Downloading cmd2-2.4.2-py3-none-any.whl (147 kB)\n",
            "\u001b[K     |████████████████████████████████| 147 kB 46.8 MB/s \n",
            "\u001b[?25hCollecting autopage>=0.4.0\n",
            "  Downloading autopage-0.5.1-py3-none-any.whl (29 kB)\n",
            "Collecting stevedore>=2.0.1\n",
            "  Downloading stevedore-4.1.1-py3-none-any.whl (50 kB)\n",
            "\u001b[K     |████████████████████████████████| 50 kB 6.0 MB/s \n",
            "\u001b[?25hRequirement already satisfied: PrettyTable>=0.7.2 in /usr/local/lib/python3.8/dist-packages (from cliff->optuna) (3.5.0)\n",
            "Requirement already satisfied: attrs>=16.3.0 in /usr/local/lib/python3.8/dist-packages (from cmd2>=1.0.0->cliff->optuna) (22.1.0)\n",
            "Requirement already satisfied: wcwidth>=0.1.7 in /usr/local/lib/python3.8/dist-packages (from cmd2>=1.0.0->cliff->optuna) (0.2.5)\n",
            "Collecting pyperclip>=1.6\n",
            "  Downloading pyperclip-1.8.2.tar.gz (20 kB)\n",
            "Collecting pbr!=2.1.0,>=2.0.0\n",
            "  Downloading pbr-5.11.0-py2.py3-none-any.whl (112 kB)\n",
            "\u001b[K     |████████████████████████████████| 112 kB 45.9 MB/s \n",
            "\u001b[?25hRequirement already satisfied: MarkupSafe>=0.9.2 in /usr/local/lib/python3.8/dist-packages (from Mako->alembic>=1.5.0->optuna) (2.0.1)\n",
            "Building wheels for collected packages: pyperclip\n",
            "  Building wheel for pyperclip (setup.py) ... \u001b[?25l\u001b[?25hdone\n",
            "  Created wheel for pyperclip: filename=pyperclip-1.8.2-py3-none-any.whl size=11136 sha256=269a460923ab003b938f47b9353ac25d09cd693108dc0680e8ad91ae72768cfc\n",
            "  Stored in directory: /root/.cache/pip/wheels/7f/1a/65/84ff8c386bec21fca6d220ea1f5498a0367883a78dd5ba6122\n",
            "Successfully built pyperclip\n",
            "Installing collected packages: pyperclip, pbr, stevedore, Mako, cmd2, autopage, colorlog, cmaes, cliff, alembic, optuna\n",
            "Successfully installed Mako-1.2.4 alembic-1.8.1 autopage-0.5.1 cliff-4.1.0 cmaes-0.9.0 cmd2-2.4.2 colorlog-6.7.0 optuna-3.0.4 pbr-5.11.0 pyperclip-1.8.2 stevedore-4.1.1\n"
          ]
        }
      ]
    },
    {
      "cell_type": "code",
      "source": [
        "import xgboost as xgb\n",
        "import numpy as np\n",
        "import optuna\n",
        "from sklearn import metrics\n",
        "from sklearn.metrics import mean_squared_error\n",
        "from optuna.samplers import TPESampler\n",
        "from xgboost import XGBRegressor\n",
        "from optuna.integration import XGBoostPruningCallback\n",
        "from sklearn.model_selection import RepeatedKFold\n",
        "from optuna import create_study\n",
        "\n",
        "def objective(\n",
        "    trial,\n",
        "    X,\n",
        "    y,\n",
        "    random_state=22,\n",
        "    n_splits=3,\n",
        "    n_repeats=2,\n",
        "    n_jobs=1,\n",
        "    early_stopping_rounds=100,\n",
        "):\n",
        "    # XGBoost parameters\n",
        "    params = {\n",
        "        \"verbosity\": 0,  # 0 (silent) - 3 (debug)\n",
        "        \"objective\": \"reg:squarederror\",\n",
        "        \"n_estimators\": 100,\n",
        "        \"max_depth\": trial.suggest_int(\"max_depth\", 4, 12),\n",
        "        \"learning_rate\": trial.suggest_loguniform(\"learning_rate\", 0.00001, 0.01),\n",
        "        \"colsample_bytree\": trial.suggest_loguniform(\"colsample_bytree\", 0.2, 0.6),\n",
        "        \"subsample\": trial.suggest_loguniform(\"subsample\", 0.4, 0.8),\n",
        "        \"alpha\": trial.suggest_loguniform(\"alpha\", 0.01, 10.0),\n",
        "        \"lambda\": trial.suggest_loguniform(\"lambda\", 1e-8, 10.0),\n",
        "        \"gamma\": trial.suggest_loguniform(\"gamma\", 1e-8, 10.0),\n",
        "        \"min_child_weight\": trial.suggest_loguniform(\"min_child_weight\", 10, 1000),\n",
        "        \"seed\": random_state,\n",
        "        \"n_jobs\": n_jobs,\n",
        "    }\n",
        "\n",
        "    model = XGBRegressor(**params)\n",
        "    pruning_callback = XGBoostPruningCallback(trial, \"validation_0-rmse\")\n",
        "    rkf = RepeatedKFold(\n",
        "        n_splits=n_splits, n_repeats=n_repeats, random_state=random_state\n",
        "    )\n",
        "    X_values = X.values\n",
        "    y_values = y.values\n",
        "    y_pred = np.zeros_like(y_values)\n",
        "    for train_index, test_index in rkf.split(X_values):\n",
        "        X_A, X_B = X_values[train_index, :], X_values[test_index, :]\n",
        "        y_A, y_B = y_values[train_index], y_values[test_index]\n",
        "        model.fit(\n",
        "            X_A,\n",
        "            y_A,\n",
        "            eval_set=[(X_B, y_B)],\n",
        "            eval_metric=\"rmse\",\n",
        "            verbose=0,\n",
        "            callbacks=[pruning_callback],\n",
        "            early_stopping_rounds=early_stopping_rounds,\n",
        "        )\n",
        "        y_pred[test_index] += model.predict(X_B)\n",
        "    y_pred /= n_repeats\n",
        "    return np.sqrt(mean_squared_error(Y_train, y_pred))"
      ],
      "metadata": {
        "id": "THEKTwCfz15w"
      },
      "id": "THEKTwCfz15w",
      "execution_count": 56,
      "outputs": []
    },
    {
      "cell_type": "code",
      "source": [
        "sampler = TPESampler(seed=124, multivariate=True)\n",
        "study = create_study(direction=\"minimize\", sampler=sampler)\n",
        "study.optimize(\n",
        "    lambda trial: objective(\n",
        "        trial,\n",
        "        X_train,\n",
        "        Y_train,\n",
        "        random_state=124,\n",
        "        n_splits=10,\n",
        "        n_repeats=1,\n",
        "        n_jobs=12,\n",
        "        early_stopping_rounds=100,\n",
        "    ),\n",
        "    n_trials=2,\n",
        "    n_jobs=1,\n",
        ")\n",
        "\n",
        "# display params\n",
        "hp = study.best_params\n",
        "for key, value in hp.items():\n",
        "    print(f\"{key:>20s} : {value}\")\n",
        "print(f\"{'best objective value':>20s} : {study.best_value}\")"
      ],
      "metadata": {
        "colab": {
          "base_uri": "https://localhost:8080/"
        },
        "id": "cOYdfr5Iz9Kc",
        "outputId": "5ed26b7e-7859-4433-ba6f-f6de5513951a"
      },
      "id": "cOYdfr5Iz9Kc",
      "execution_count": 57,
      "outputs": [
        {
          "output_type": "stream",
          "name": "stderr",
          "text": [
            "/usr/local/lib/python3.8/dist-packages/optuna/samplers/_tpe/sampler.py:281: ExperimentalWarning: ``multivariate`` option is an experimental feature. The interface can change in the future.\n",
            "  warnings.warn(\n",
            "\u001b[32m[I 2022-12-04 14:38:51,843]\u001b[0m A new study created in memory with name: no-name-0b4ccdef-3f3e-4347-a7f9-1d5e590f6ca2\u001b[0m\n",
            "<ipython-input-56-14e632185ca4>:28: FutureWarning: suggest_loguniform has been deprecated in v3.0.0. This feature will be removed in v6.0.0. See https://github.com/optuna/optuna/releases/tag/v3.0.0. Use :func:`~optuna.trial.Trial.suggest_float` instead.\n",
            "  \"learning_rate\": trial.suggest_loguniform(\"learning_rate\", 0.00001, 0.01),\n",
            "<ipython-input-56-14e632185ca4>:29: FutureWarning: suggest_loguniform has been deprecated in v3.0.0. This feature will be removed in v6.0.0. See https://github.com/optuna/optuna/releases/tag/v3.0.0. Use :func:`~optuna.trial.Trial.suggest_float` instead.\n",
            "  \"colsample_bytree\": trial.suggest_loguniform(\"colsample_bytree\", 0.2, 0.6),\n",
            "<ipython-input-56-14e632185ca4>:30: FutureWarning: suggest_loguniform has been deprecated in v3.0.0. This feature will be removed in v6.0.0. See https://github.com/optuna/optuna/releases/tag/v3.0.0. Use :func:`~optuna.trial.Trial.suggest_float` instead.\n",
            "  \"subsample\": trial.suggest_loguniform(\"subsample\", 0.4, 0.8),\n",
            "<ipython-input-56-14e632185ca4>:31: FutureWarning: suggest_loguniform has been deprecated in v3.0.0. This feature will be removed in v6.0.0. See https://github.com/optuna/optuna/releases/tag/v3.0.0. Use :func:`~optuna.trial.Trial.suggest_float` instead.\n",
            "  \"alpha\": trial.suggest_loguniform(\"alpha\", 0.01, 10.0),\n",
            "<ipython-input-56-14e632185ca4>:32: FutureWarning: suggest_loguniform has been deprecated in v3.0.0. This feature will be removed in v6.0.0. See https://github.com/optuna/optuna/releases/tag/v3.0.0. Use :func:`~optuna.trial.Trial.suggest_float` instead.\n",
            "  \"lambda\": trial.suggest_loguniform(\"lambda\", 1e-8, 10.0),\n",
            "<ipython-input-56-14e632185ca4>:33: FutureWarning: suggest_loguniform has been deprecated in v3.0.0. This feature will be removed in v6.0.0. See https://github.com/optuna/optuna/releases/tag/v3.0.0. Use :func:`~optuna.trial.Trial.suggest_float` instead.\n",
            "  \"gamma\": trial.suggest_loguniform(\"gamma\", 1e-8, 10.0),\n",
            "<ipython-input-56-14e632185ca4>:34: FutureWarning: suggest_loguniform has been deprecated in v3.0.0. This feature will be removed in v6.0.0. See https://github.com/optuna/optuna/releases/tag/v3.0.0. Use :func:`~optuna.trial.Trial.suggest_float` instead.\n",
            "  \"min_child_weight\": trial.suggest_loguniform(\"min_child_weight\", 10, 1000),\n",
            "/usr/local/lib/python3.8/dist-packages/optuna/trial/_trial.py:462: UserWarning: The reported value is ignored because this `step` 0 is already reported.\n",
            "  warnings.warn(\n",
            "/usr/local/lib/python3.8/dist-packages/optuna/trial/_trial.py:462: UserWarning: The reported value is ignored because this `step` 1 is already reported.\n",
            "  warnings.warn(\n",
            "/usr/local/lib/python3.8/dist-packages/optuna/trial/_trial.py:462: UserWarning: The reported value is ignored because this `step` 2 is already reported.\n",
            "  warnings.warn(\n",
            "/usr/local/lib/python3.8/dist-packages/optuna/trial/_trial.py:462: UserWarning: The reported value is ignored because this `step` 3 is already reported.\n",
            "  warnings.warn(\n",
            "/usr/local/lib/python3.8/dist-packages/optuna/trial/_trial.py:462: UserWarning: The reported value is ignored because this `step` 4 is already reported.\n",
            "  warnings.warn(\n",
            "/usr/local/lib/python3.8/dist-packages/optuna/trial/_trial.py:462: UserWarning: The reported value is ignored because this `step` 5 is already reported.\n",
            "  warnings.warn(\n",
            "/usr/local/lib/python3.8/dist-packages/optuna/trial/_trial.py:462: UserWarning: The reported value is ignored because this `step` 6 is already reported.\n",
            "  warnings.warn(\n",
            "/usr/local/lib/python3.8/dist-packages/optuna/trial/_trial.py:462: UserWarning: The reported value is ignored because this `step` 7 is already reported.\n",
            "  warnings.warn(\n",
            "/usr/local/lib/python3.8/dist-packages/optuna/trial/_trial.py:462: UserWarning: The reported value is ignored because this `step` 8 is already reported.\n",
            "  warnings.warn(\n",
            "/usr/local/lib/python3.8/dist-packages/optuna/trial/_trial.py:462: UserWarning: The reported value is ignored because this `step` 9 is already reported.\n",
            "  warnings.warn(\n",
            "/usr/local/lib/python3.8/dist-packages/optuna/trial/_trial.py:462: UserWarning: The reported value is ignored because this `step` 10 is already reported.\n",
            "  warnings.warn(\n",
            "/usr/local/lib/python3.8/dist-packages/optuna/trial/_trial.py:462: UserWarning: The reported value is ignored because this `step` 11 is already reported.\n",
            "  warnings.warn(\n",
            "/usr/local/lib/python3.8/dist-packages/optuna/trial/_trial.py:462: UserWarning: The reported value is ignored because this `step` 12 is already reported.\n",
            "  warnings.warn(\n",
            "/usr/local/lib/python3.8/dist-packages/optuna/trial/_trial.py:462: UserWarning: The reported value is ignored because this `step` 13 is already reported.\n",
            "  warnings.warn(\n",
            "/usr/local/lib/python3.8/dist-packages/optuna/trial/_trial.py:462: UserWarning: The reported value is ignored because this `step` 14 is already reported.\n",
            "  warnings.warn(\n",
            "/usr/local/lib/python3.8/dist-packages/optuna/trial/_trial.py:462: UserWarning: The reported value is ignored because this `step` 15 is already reported.\n",
            "  warnings.warn(\n",
            "/usr/local/lib/python3.8/dist-packages/optuna/trial/_trial.py:462: UserWarning: The reported value is ignored because this `step` 16 is already reported.\n",
            "  warnings.warn(\n",
            "/usr/local/lib/python3.8/dist-packages/optuna/trial/_trial.py:462: UserWarning: The reported value is ignored because this `step` 17 is already reported.\n",
            "  warnings.warn(\n",
            "/usr/local/lib/python3.8/dist-packages/optuna/trial/_trial.py:462: UserWarning: The reported value is ignored because this `step` 18 is already reported.\n",
            "  warnings.warn(\n",
            "/usr/local/lib/python3.8/dist-packages/optuna/trial/_trial.py:462: UserWarning: The reported value is ignored because this `step` 19 is already reported.\n",
            "  warnings.warn(\n",
            "/usr/local/lib/python3.8/dist-packages/optuna/trial/_trial.py:462: UserWarning: The reported value is ignored because this `step` 20 is already reported.\n",
            "  warnings.warn(\n",
            "/usr/local/lib/python3.8/dist-packages/optuna/trial/_trial.py:462: UserWarning: The reported value is ignored because this `step` 21 is already reported.\n",
            "  warnings.warn(\n",
            "/usr/local/lib/python3.8/dist-packages/optuna/trial/_trial.py:462: UserWarning: The reported value is ignored because this `step` 22 is already reported.\n",
            "  warnings.warn(\n",
            "/usr/local/lib/python3.8/dist-packages/optuna/trial/_trial.py:462: UserWarning: The reported value is ignored because this `step` 23 is already reported.\n",
            "  warnings.warn(\n",
            "/usr/local/lib/python3.8/dist-packages/optuna/trial/_trial.py:462: UserWarning: The reported value is ignored because this `step` 24 is already reported.\n",
            "  warnings.warn(\n",
            "/usr/local/lib/python3.8/dist-packages/optuna/trial/_trial.py:462: UserWarning: The reported value is ignored because this `step` 25 is already reported.\n",
            "  warnings.warn(\n",
            "/usr/local/lib/python3.8/dist-packages/optuna/trial/_trial.py:462: UserWarning: The reported value is ignored because this `step` 26 is already reported.\n",
            "  warnings.warn(\n",
            "/usr/local/lib/python3.8/dist-packages/optuna/trial/_trial.py:462: UserWarning: The reported value is ignored because this `step` 27 is already reported.\n",
            "  warnings.warn(\n",
            "/usr/local/lib/python3.8/dist-packages/optuna/trial/_trial.py:462: UserWarning: The reported value is ignored because this `step` 28 is already reported.\n",
            "  warnings.warn(\n",
            "/usr/local/lib/python3.8/dist-packages/optuna/trial/_trial.py:462: UserWarning: The reported value is ignored because this `step` 29 is already reported.\n",
            "  warnings.warn(\n",
            "/usr/local/lib/python3.8/dist-packages/optuna/trial/_trial.py:462: UserWarning: The reported value is ignored because this `step` 30 is already reported.\n",
            "  warnings.warn(\n",
            "/usr/local/lib/python3.8/dist-packages/optuna/trial/_trial.py:462: UserWarning: The reported value is ignored because this `step` 31 is already reported.\n",
            "  warnings.warn(\n",
            "/usr/local/lib/python3.8/dist-packages/optuna/trial/_trial.py:462: UserWarning: The reported value is ignored because this `step` 32 is already reported.\n",
            "  warnings.warn(\n",
            "/usr/local/lib/python3.8/dist-packages/optuna/trial/_trial.py:462: UserWarning: The reported value is ignored because this `step` 33 is already reported.\n",
            "  warnings.warn(\n",
            "/usr/local/lib/python3.8/dist-packages/optuna/trial/_trial.py:462: UserWarning: The reported value is ignored because this `step` 34 is already reported.\n",
            "  warnings.warn(\n",
            "/usr/local/lib/python3.8/dist-packages/optuna/trial/_trial.py:462: UserWarning: The reported value is ignored because this `step` 35 is already reported.\n",
            "  warnings.warn(\n",
            "/usr/local/lib/python3.8/dist-packages/optuna/trial/_trial.py:462: UserWarning: The reported value is ignored because this `step` 36 is already reported.\n",
            "  warnings.warn(\n",
            "/usr/local/lib/python3.8/dist-packages/optuna/trial/_trial.py:462: UserWarning: The reported value is ignored because this `step` 37 is already reported.\n",
            "  warnings.warn(\n",
            "/usr/local/lib/python3.8/dist-packages/optuna/trial/_trial.py:462: UserWarning: The reported value is ignored because this `step` 38 is already reported.\n",
            "  warnings.warn(\n",
            "/usr/local/lib/python3.8/dist-packages/optuna/trial/_trial.py:462: UserWarning: The reported value is ignored because this `step` 39 is already reported.\n",
            "  warnings.warn(\n",
            "/usr/local/lib/python3.8/dist-packages/optuna/trial/_trial.py:462: UserWarning: The reported value is ignored because this `step` 40 is already reported.\n",
            "  warnings.warn(\n",
            "/usr/local/lib/python3.8/dist-packages/optuna/trial/_trial.py:462: UserWarning: The reported value is ignored because this `step` 41 is already reported.\n",
            "  warnings.warn(\n",
            "/usr/local/lib/python3.8/dist-packages/optuna/trial/_trial.py:462: UserWarning: The reported value is ignored because this `step` 42 is already reported.\n",
            "  warnings.warn(\n",
            "/usr/local/lib/python3.8/dist-packages/optuna/trial/_trial.py:462: UserWarning: The reported value is ignored because this `step` 43 is already reported.\n",
            "  warnings.warn(\n",
            "/usr/local/lib/python3.8/dist-packages/optuna/trial/_trial.py:462: UserWarning: The reported value is ignored because this `step` 44 is already reported.\n",
            "  warnings.warn(\n",
            "/usr/local/lib/python3.8/dist-packages/optuna/trial/_trial.py:462: UserWarning: The reported value is ignored because this `step` 45 is already reported.\n",
            "  warnings.warn(\n",
            "/usr/local/lib/python3.8/dist-packages/optuna/trial/_trial.py:462: UserWarning: The reported value is ignored because this `step` 46 is already reported.\n",
            "  warnings.warn(\n",
            "/usr/local/lib/python3.8/dist-packages/optuna/trial/_trial.py:462: UserWarning: The reported value is ignored because this `step` 47 is already reported.\n",
            "  warnings.warn(\n",
            "/usr/local/lib/python3.8/dist-packages/optuna/trial/_trial.py:462: UserWarning: The reported value is ignored because this `step` 48 is already reported.\n",
            "  warnings.warn(\n",
            "/usr/local/lib/python3.8/dist-packages/optuna/trial/_trial.py:462: UserWarning: The reported value is ignored because this `step` 49 is already reported.\n",
            "  warnings.warn(\n",
            "/usr/local/lib/python3.8/dist-packages/optuna/trial/_trial.py:462: UserWarning: The reported value is ignored because this `step` 50 is already reported.\n",
            "  warnings.warn(\n",
            "/usr/local/lib/python3.8/dist-packages/optuna/trial/_trial.py:462: UserWarning: The reported value is ignored because this `step` 51 is already reported.\n",
            "  warnings.warn(\n",
            "/usr/local/lib/python3.8/dist-packages/optuna/trial/_trial.py:462: UserWarning: The reported value is ignored because this `step` 52 is already reported.\n",
            "  warnings.warn(\n",
            "/usr/local/lib/python3.8/dist-packages/optuna/trial/_trial.py:462: UserWarning: The reported value is ignored because this `step` 53 is already reported.\n",
            "  warnings.warn(\n",
            "/usr/local/lib/python3.8/dist-packages/optuna/trial/_trial.py:462: UserWarning: The reported value is ignored because this `step` 54 is already reported.\n",
            "  warnings.warn(\n",
            "/usr/local/lib/python3.8/dist-packages/optuna/trial/_trial.py:462: UserWarning: The reported value is ignored because this `step` 55 is already reported.\n",
            "  warnings.warn(\n",
            "/usr/local/lib/python3.8/dist-packages/optuna/trial/_trial.py:462: UserWarning: The reported value is ignored because this `step` 56 is already reported.\n",
            "  warnings.warn(\n",
            "/usr/local/lib/python3.8/dist-packages/optuna/trial/_trial.py:462: UserWarning: The reported value is ignored because this `step` 57 is already reported.\n",
            "  warnings.warn(\n",
            "/usr/local/lib/python3.8/dist-packages/optuna/trial/_trial.py:462: UserWarning: The reported value is ignored because this `step` 58 is already reported.\n",
            "  warnings.warn(\n",
            "/usr/local/lib/python3.8/dist-packages/optuna/trial/_trial.py:462: UserWarning: The reported value is ignored because this `step` 59 is already reported.\n",
            "  warnings.warn(\n",
            "/usr/local/lib/python3.8/dist-packages/optuna/trial/_trial.py:462: UserWarning: The reported value is ignored because this `step` 60 is already reported.\n",
            "  warnings.warn(\n",
            "/usr/local/lib/python3.8/dist-packages/optuna/trial/_trial.py:462: UserWarning: The reported value is ignored because this `step` 61 is already reported.\n",
            "  warnings.warn(\n",
            "/usr/local/lib/python3.8/dist-packages/optuna/trial/_trial.py:462: UserWarning: The reported value is ignored because this `step` 62 is already reported.\n",
            "  warnings.warn(\n",
            "/usr/local/lib/python3.8/dist-packages/optuna/trial/_trial.py:462: UserWarning: The reported value is ignored because this `step` 63 is already reported.\n",
            "  warnings.warn(\n",
            "/usr/local/lib/python3.8/dist-packages/optuna/trial/_trial.py:462: UserWarning: The reported value is ignored because this `step` 64 is already reported.\n",
            "  warnings.warn(\n",
            "/usr/local/lib/python3.8/dist-packages/optuna/trial/_trial.py:462: UserWarning: The reported value is ignored because this `step` 65 is already reported.\n",
            "  warnings.warn(\n",
            "/usr/local/lib/python3.8/dist-packages/optuna/trial/_trial.py:462: UserWarning: The reported value is ignored because this `step` 66 is already reported.\n",
            "  warnings.warn(\n",
            "/usr/local/lib/python3.8/dist-packages/optuna/trial/_trial.py:462: UserWarning: The reported value is ignored because this `step` 67 is already reported.\n",
            "  warnings.warn(\n",
            "/usr/local/lib/python3.8/dist-packages/optuna/trial/_trial.py:462: UserWarning: The reported value is ignored because this `step` 68 is already reported.\n",
            "  warnings.warn(\n",
            "/usr/local/lib/python3.8/dist-packages/optuna/trial/_trial.py:462: UserWarning: The reported value is ignored because this `step` 69 is already reported.\n",
            "  warnings.warn(\n",
            "/usr/local/lib/python3.8/dist-packages/optuna/trial/_trial.py:462: UserWarning: The reported value is ignored because this `step` 70 is already reported.\n",
            "  warnings.warn(\n",
            "/usr/local/lib/python3.8/dist-packages/optuna/trial/_trial.py:462: UserWarning: The reported value is ignored because this `step` 71 is already reported.\n",
            "  warnings.warn(\n",
            "/usr/local/lib/python3.8/dist-packages/optuna/trial/_trial.py:462: UserWarning: The reported value is ignored because this `step` 72 is already reported.\n",
            "  warnings.warn(\n",
            "/usr/local/lib/python3.8/dist-packages/optuna/trial/_trial.py:462: UserWarning: The reported value is ignored because this `step` 73 is already reported.\n",
            "  warnings.warn(\n",
            "/usr/local/lib/python3.8/dist-packages/optuna/trial/_trial.py:462: UserWarning: The reported value is ignored because this `step` 74 is already reported.\n",
            "  warnings.warn(\n",
            "/usr/local/lib/python3.8/dist-packages/optuna/trial/_trial.py:462: UserWarning: The reported value is ignored because this `step` 75 is already reported.\n",
            "  warnings.warn(\n",
            "/usr/local/lib/python3.8/dist-packages/optuna/trial/_trial.py:462: UserWarning: The reported value is ignored because this `step` 76 is already reported.\n",
            "  warnings.warn(\n",
            "/usr/local/lib/python3.8/dist-packages/optuna/trial/_trial.py:462: UserWarning: The reported value is ignored because this `step` 77 is already reported.\n",
            "  warnings.warn(\n",
            "/usr/local/lib/python3.8/dist-packages/optuna/trial/_trial.py:462: UserWarning: The reported value is ignored because this `step` 78 is already reported.\n",
            "  warnings.warn(\n",
            "/usr/local/lib/python3.8/dist-packages/optuna/trial/_trial.py:462: UserWarning: The reported value is ignored because this `step` 79 is already reported.\n",
            "  warnings.warn(\n",
            "/usr/local/lib/python3.8/dist-packages/optuna/trial/_trial.py:462: UserWarning: The reported value is ignored because this `step` 80 is already reported.\n",
            "  warnings.warn(\n",
            "/usr/local/lib/python3.8/dist-packages/optuna/trial/_trial.py:462: UserWarning: The reported value is ignored because this `step` 81 is already reported.\n",
            "  warnings.warn(\n",
            "/usr/local/lib/python3.8/dist-packages/optuna/trial/_trial.py:462: UserWarning: The reported value is ignored because this `step` 82 is already reported.\n",
            "  warnings.warn(\n",
            "/usr/local/lib/python3.8/dist-packages/optuna/trial/_trial.py:462: UserWarning: The reported value is ignored because this `step` 83 is already reported.\n",
            "  warnings.warn(\n",
            "/usr/local/lib/python3.8/dist-packages/optuna/trial/_trial.py:462: UserWarning: The reported value is ignored because this `step` 84 is already reported.\n",
            "  warnings.warn(\n",
            "/usr/local/lib/python3.8/dist-packages/optuna/trial/_trial.py:462: UserWarning: The reported value is ignored because this `step` 85 is already reported.\n",
            "  warnings.warn(\n",
            "/usr/local/lib/python3.8/dist-packages/optuna/trial/_trial.py:462: UserWarning: The reported value is ignored because this `step` 86 is already reported.\n",
            "  warnings.warn(\n",
            "/usr/local/lib/python3.8/dist-packages/optuna/trial/_trial.py:462: UserWarning: The reported value is ignored because this `step` 87 is already reported.\n",
            "  warnings.warn(\n",
            "/usr/local/lib/python3.8/dist-packages/optuna/trial/_trial.py:462: UserWarning: The reported value is ignored because this `step` 88 is already reported.\n",
            "  warnings.warn(\n",
            "/usr/local/lib/python3.8/dist-packages/optuna/trial/_trial.py:462: UserWarning: The reported value is ignored because this `step` 89 is already reported.\n",
            "  warnings.warn(\n",
            "/usr/local/lib/python3.8/dist-packages/optuna/trial/_trial.py:462: UserWarning: The reported value is ignored because this `step` 90 is already reported.\n",
            "  warnings.warn(\n",
            "/usr/local/lib/python3.8/dist-packages/optuna/trial/_trial.py:462: UserWarning: The reported value is ignored because this `step` 91 is already reported.\n",
            "  warnings.warn(\n",
            "/usr/local/lib/python3.8/dist-packages/optuna/trial/_trial.py:462: UserWarning: The reported value is ignored because this `step` 92 is already reported.\n",
            "  warnings.warn(\n",
            "/usr/local/lib/python3.8/dist-packages/optuna/trial/_trial.py:462: UserWarning: The reported value is ignored because this `step` 93 is already reported.\n",
            "  warnings.warn(\n",
            "/usr/local/lib/python3.8/dist-packages/optuna/trial/_trial.py:462: UserWarning: The reported value is ignored because this `step` 94 is already reported.\n",
            "  warnings.warn(\n",
            "/usr/local/lib/python3.8/dist-packages/optuna/trial/_trial.py:462: UserWarning: The reported value is ignored because this `step` 95 is already reported.\n",
            "  warnings.warn(\n",
            "/usr/local/lib/python3.8/dist-packages/optuna/trial/_trial.py:462: UserWarning: The reported value is ignored because this `step` 96 is already reported.\n",
            "  warnings.warn(\n",
            "/usr/local/lib/python3.8/dist-packages/optuna/trial/_trial.py:462: UserWarning: The reported value is ignored because this `step` 97 is already reported.\n",
            "  warnings.warn(\n",
            "/usr/local/lib/python3.8/dist-packages/optuna/trial/_trial.py:462: UserWarning: The reported value is ignored because this `step` 98 is already reported.\n",
            "  warnings.warn(\n",
            "/usr/local/lib/python3.8/dist-packages/optuna/trial/_trial.py:462: UserWarning: The reported value is ignored because this `step` 99 is already reported.\n",
            "  warnings.warn(\n",
            "\u001b[32m[I 2022-12-04 14:39:55,179]\u001b[0m Trial 0 finished with value: 219.38573571440685 and parameters: {'max_depth': 4, 'learning_rate': 0.0017235125679566851, 'colsample_bytree': 0.375053263116791, 'subsample': 0.5495463565688764, 'alpha': 0.14259940359422604, 'lambda': 2.9235044300356874e-06, 'gamma': 0.010272157854456487, 'min_child_weight': 61.794528315016734}. Best is trial 0 with value: 219.38573571440685.\u001b[0m\n",
            "<ipython-input-56-14e632185ca4>:28: FutureWarning: suggest_loguniform has been deprecated in v3.0.0. This feature will be removed in v6.0.0. See https://github.com/optuna/optuna/releases/tag/v3.0.0. Use :func:`~optuna.trial.Trial.suggest_float` instead.\n",
            "  \"learning_rate\": trial.suggest_loguniform(\"learning_rate\", 0.00001, 0.01),\n",
            "<ipython-input-56-14e632185ca4>:29: FutureWarning: suggest_loguniform has been deprecated in v3.0.0. This feature will be removed in v6.0.0. See https://github.com/optuna/optuna/releases/tag/v3.0.0. Use :func:`~optuna.trial.Trial.suggest_float` instead.\n",
            "  \"colsample_bytree\": trial.suggest_loguniform(\"colsample_bytree\", 0.2, 0.6),\n",
            "<ipython-input-56-14e632185ca4>:30: FutureWarning: suggest_loguniform has been deprecated in v3.0.0. This feature will be removed in v6.0.0. See https://github.com/optuna/optuna/releases/tag/v3.0.0. Use :func:`~optuna.trial.Trial.suggest_float` instead.\n",
            "  \"subsample\": trial.suggest_loguniform(\"subsample\", 0.4, 0.8),\n",
            "<ipython-input-56-14e632185ca4>:31: FutureWarning: suggest_loguniform has been deprecated in v3.0.0. This feature will be removed in v6.0.0. See https://github.com/optuna/optuna/releases/tag/v3.0.0. Use :func:`~optuna.trial.Trial.suggest_float` instead.\n",
            "  \"alpha\": trial.suggest_loguniform(\"alpha\", 0.01, 10.0),\n",
            "<ipython-input-56-14e632185ca4>:32: FutureWarning: suggest_loguniform has been deprecated in v3.0.0. This feature will be removed in v6.0.0. See https://github.com/optuna/optuna/releases/tag/v3.0.0. Use :func:`~optuna.trial.Trial.suggest_float` instead.\n",
            "  \"lambda\": trial.suggest_loguniform(\"lambda\", 1e-8, 10.0),\n",
            "<ipython-input-56-14e632185ca4>:33: FutureWarning: suggest_loguniform has been deprecated in v3.0.0. This feature will be removed in v6.0.0. See https://github.com/optuna/optuna/releases/tag/v3.0.0. Use :func:`~optuna.trial.Trial.suggest_float` instead.\n",
            "  \"gamma\": trial.suggest_loguniform(\"gamma\", 1e-8, 10.0),\n",
            "<ipython-input-56-14e632185ca4>:34: FutureWarning: suggest_loguniform has been deprecated in v3.0.0. This feature will be removed in v6.0.0. See https://github.com/optuna/optuna/releases/tag/v3.0.0. Use :func:`~optuna.trial.Trial.suggest_float` instead.\n",
            "  \"min_child_weight\": trial.suggest_loguniform(\"min_child_weight\", 10, 1000),\n",
            "/usr/local/lib/python3.8/dist-packages/optuna/trial/_trial.py:462: UserWarning: The reported value is ignored because this `step` 0 is already reported.\n",
            "  warnings.warn(\n",
            "/usr/local/lib/python3.8/dist-packages/optuna/trial/_trial.py:462: UserWarning: The reported value is ignored because this `step` 1 is already reported.\n",
            "  warnings.warn(\n",
            "/usr/local/lib/python3.8/dist-packages/optuna/trial/_trial.py:462: UserWarning: The reported value is ignored because this `step` 2 is already reported.\n",
            "  warnings.warn(\n",
            "/usr/local/lib/python3.8/dist-packages/optuna/trial/_trial.py:462: UserWarning: The reported value is ignored because this `step` 3 is already reported.\n",
            "  warnings.warn(\n",
            "/usr/local/lib/python3.8/dist-packages/optuna/trial/_trial.py:462: UserWarning: The reported value is ignored because this `step` 4 is already reported.\n",
            "  warnings.warn(\n",
            "/usr/local/lib/python3.8/dist-packages/optuna/trial/_trial.py:462: UserWarning: The reported value is ignored because this `step` 5 is already reported.\n",
            "  warnings.warn(\n",
            "/usr/local/lib/python3.8/dist-packages/optuna/trial/_trial.py:462: UserWarning: The reported value is ignored because this `step` 6 is already reported.\n",
            "  warnings.warn(\n",
            "/usr/local/lib/python3.8/dist-packages/optuna/trial/_trial.py:462: UserWarning: The reported value is ignored because this `step` 7 is already reported.\n",
            "  warnings.warn(\n",
            "/usr/local/lib/python3.8/dist-packages/optuna/trial/_trial.py:462: UserWarning: The reported value is ignored because this `step` 8 is already reported.\n",
            "  warnings.warn(\n",
            "/usr/local/lib/python3.8/dist-packages/optuna/trial/_trial.py:462: UserWarning: The reported value is ignored because this `step` 9 is already reported.\n",
            "  warnings.warn(\n",
            "/usr/local/lib/python3.8/dist-packages/optuna/trial/_trial.py:462: UserWarning: The reported value is ignored because this `step` 10 is already reported.\n",
            "  warnings.warn(\n",
            "/usr/local/lib/python3.8/dist-packages/optuna/trial/_trial.py:462: UserWarning: The reported value is ignored because this `step` 11 is already reported.\n",
            "  warnings.warn(\n",
            "/usr/local/lib/python3.8/dist-packages/optuna/trial/_trial.py:462: UserWarning: The reported value is ignored because this `step` 12 is already reported.\n",
            "  warnings.warn(\n",
            "/usr/local/lib/python3.8/dist-packages/optuna/trial/_trial.py:462: UserWarning: The reported value is ignored because this `step` 13 is already reported.\n",
            "  warnings.warn(\n",
            "/usr/local/lib/python3.8/dist-packages/optuna/trial/_trial.py:462: UserWarning: The reported value is ignored because this `step` 14 is already reported.\n",
            "  warnings.warn(\n",
            "/usr/local/lib/python3.8/dist-packages/optuna/trial/_trial.py:462: UserWarning: The reported value is ignored because this `step` 15 is already reported.\n",
            "  warnings.warn(\n",
            "/usr/local/lib/python3.8/dist-packages/optuna/trial/_trial.py:462: UserWarning: The reported value is ignored because this `step` 16 is already reported.\n",
            "  warnings.warn(\n",
            "/usr/local/lib/python3.8/dist-packages/optuna/trial/_trial.py:462: UserWarning: The reported value is ignored because this `step` 17 is already reported.\n",
            "  warnings.warn(\n",
            "/usr/local/lib/python3.8/dist-packages/optuna/trial/_trial.py:462: UserWarning: The reported value is ignored because this `step` 18 is already reported.\n",
            "  warnings.warn(\n",
            "/usr/local/lib/python3.8/dist-packages/optuna/trial/_trial.py:462: UserWarning: The reported value is ignored because this `step` 19 is already reported.\n",
            "  warnings.warn(\n",
            "/usr/local/lib/python3.8/dist-packages/optuna/trial/_trial.py:462: UserWarning: The reported value is ignored because this `step` 20 is already reported.\n",
            "  warnings.warn(\n",
            "/usr/local/lib/python3.8/dist-packages/optuna/trial/_trial.py:462: UserWarning: The reported value is ignored because this `step` 21 is already reported.\n",
            "  warnings.warn(\n",
            "/usr/local/lib/python3.8/dist-packages/optuna/trial/_trial.py:462: UserWarning: The reported value is ignored because this `step` 22 is already reported.\n",
            "  warnings.warn(\n",
            "/usr/local/lib/python3.8/dist-packages/optuna/trial/_trial.py:462: UserWarning: The reported value is ignored because this `step` 23 is already reported.\n",
            "  warnings.warn(\n",
            "/usr/local/lib/python3.8/dist-packages/optuna/trial/_trial.py:462: UserWarning: The reported value is ignored because this `step` 24 is already reported.\n",
            "  warnings.warn(\n",
            "/usr/local/lib/python3.8/dist-packages/optuna/trial/_trial.py:462: UserWarning: The reported value is ignored because this `step` 25 is already reported.\n",
            "  warnings.warn(\n",
            "/usr/local/lib/python3.8/dist-packages/optuna/trial/_trial.py:462: UserWarning: The reported value is ignored because this `step` 26 is already reported.\n",
            "  warnings.warn(\n",
            "/usr/local/lib/python3.8/dist-packages/optuna/trial/_trial.py:462: UserWarning: The reported value is ignored because this `step` 27 is already reported.\n",
            "  warnings.warn(\n",
            "/usr/local/lib/python3.8/dist-packages/optuna/trial/_trial.py:462: UserWarning: The reported value is ignored because this `step` 28 is already reported.\n",
            "  warnings.warn(\n",
            "/usr/local/lib/python3.8/dist-packages/optuna/trial/_trial.py:462: UserWarning: The reported value is ignored because this `step` 29 is already reported.\n",
            "  warnings.warn(\n",
            "/usr/local/lib/python3.8/dist-packages/optuna/trial/_trial.py:462: UserWarning: The reported value is ignored because this `step` 30 is already reported.\n",
            "  warnings.warn(\n",
            "/usr/local/lib/python3.8/dist-packages/optuna/trial/_trial.py:462: UserWarning: The reported value is ignored because this `step` 31 is already reported.\n",
            "  warnings.warn(\n",
            "/usr/local/lib/python3.8/dist-packages/optuna/trial/_trial.py:462: UserWarning: The reported value is ignored because this `step` 32 is already reported.\n",
            "  warnings.warn(\n",
            "/usr/local/lib/python3.8/dist-packages/optuna/trial/_trial.py:462: UserWarning: The reported value is ignored because this `step` 33 is already reported.\n",
            "  warnings.warn(\n",
            "/usr/local/lib/python3.8/dist-packages/optuna/trial/_trial.py:462: UserWarning: The reported value is ignored because this `step` 34 is already reported.\n",
            "  warnings.warn(\n",
            "/usr/local/lib/python3.8/dist-packages/optuna/trial/_trial.py:462: UserWarning: The reported value is ignored because this `step` 35 is already reported.\n",
            "  warnings.warn(\n",
            "/usr/local/lib/python3.8/dist-packages/optuna/trial/_trial.py:462: UserWarning: The reported value is ignored because this `step` 36 is already reported.\n",
            "  warnings.warn(\n",
            "/usr/local/lib/python3.8/dist-packages/optuna/trial/_trial.py:462: UserWarning: The reported value is ignored because this `step` 37 is already reported.\n",
            "  warnings.warn(\n",
            "/usr/local/lib/python3.8/dist-packages/optuna/trial/_trial.py:462: UserWarning: The reported value is ignored because this `step` 38 is already reported.\n",
            "  warnings.warn(\n",
            "/usr/local/lib/python3.8/dist-packages/optuna/trial/_trial.py:462: UserWarning: The reported value is ignored because this `step` 39 is already reported.\n",
            "  warnings.warn(\n",
            "/usr/local/lib/python3.8/dist-packages/optuna/trial/_trial.py:462: UserWarning: The reported value is ignored because this `step` 40 is already reported.\n",
            "  warnings.warn(\n",
            "/usr/local/lib/python3.8/dist-packages/optuna/trial/_trial.py:462: UserWarning: The reported value is ignored because this `step` 41 is already reported.\n",
            "  warnings.warn(\n",
            "/usr/local/lib/python3.8/dist-packages/optuna/trial/_trial.py:462: UserWarning: The reported value is ignored because this `step` 42 is already reported.\n",
            "  warnings.warn(\n",
            "/usr/local/lib/python3.8/dist-packages/optuna/trial/_trial.py:462: UserWarning: The reported value is ignored because this `step` 43 is already reported.\n",
            "  warnings.warn(\n",
            "/usr/local/lib/python3.8/dist-packages/optuna/trial/_trial.py:462: UserWarning: The reported value is ignored because this `step` 44 is already reported.\n",
            "  warnings.warn(\n",
            "/usr/local/lib/python3.8/dist-packages/optuna/trial/_trial.py:462: UserWarning: The reported value is ignored because this `step` 45 is already reported.\n",
            "  warnings.warn(\n",
            "/usr/local/lib/python3.8/dist-packages/optuna/trial/_trial.py:462: UserWarning: The reported value is ignored because this `step` 46 is already reported.\n",
            "  warnings.warn(\n",
            "/usr/local/lib/python3.8/dist-packages/optuna/trial/_trial.py:462: UserWarning: The reported value is ignored because this `step` 47 is already reported.\n",
            "  warnings.warn(\n",
            "/usr/local/lib/python3.8/dist-packages/optuna/trial/_trial.py:462: UserWarning: The reported value is ignored because this `step` 48 is already reported.\n",
            "  warnings.warn(\n",
            "/usr/local/lib/python3.8/dist-packages/optuna/trial/_trial.py:462: UserWarning: The reported value is ignored because this `step` 49 is already reported.\n",
            "  warnings.warn(\n",
            "/usr/local/lib/python3.8/dist-packages/optuna/trial/_trial.py:462: UserWarning: The reported value is ignored because this `step` 50 is already reported.\n",
            "  warnings.warn(\n",
            "/usr/local/lib/python3.8/dist-packages/optuna/trial/_trial.py:462: UserWarning: The reported value is ignored because this `step` 51 is already reported.\n",
            "  warnings.warn(\n",
            "/usr/local/lib/python3.8/dist-packages/optuna/trial/_trial.py:462: UserWarning: The reported value is ignored because this `step` 52 is already reported.\n",
            "  warnings.warn(\n",
            "/usr/local/lib/python3.8/dist-packages/optuna/trial/_trial.py:462: UserWarning: The reported value is ignored because this `step` 53 is already reported.\n",
            "  warnings.warn(\n",
            "/usr/local/lib/python3.8/dist-packages/optuna/trial/_trial.py:462: UserWarning: The reported value is ignored because this `step` 54 is already reported.\n",
            "  warnings.warn(\n",
            "/usr/local/lib/python3.8/dist-packages/optuna/trial/_trial.py:462: UserWarning: The reported value is ignored because this `step` 55 is already reported.\n",
            "  warnings.warn(\n",
            "/usr/local/lib/python3.8/dist-packages/optuna/trial/_trial.py:462: UserWarning: The reported value is ignored because this `step` 56 is already reported.\n",
            "  warnings.warn(\n",
            "/usr/local/lib/python3.8/dist-packages/optuna/trial/_trial.py:462: UserWarning: The reported value is ignored because this `step` 57 is already reported.\n",
            "  warnings.warn(\n",
            "/usr/local/lib/python3.8/dist-packages/optuna/trial/_trial.py:462: UserWarning: The reported value is ignored because this `step` 58 is already reported.\n",
            "  warnings.warn(\n",
            "/usr/local/lib/python3.8/dist-packages/optuna/trial/_trial.py:462: UserWarning: The reported value is ignored because this `step` 59 is already reported.\n",
            "  warnings.warn(\n",
            "/usr/local/lib/python3.8/dist-packages/optuna/trial/_trial.py:462: UserWarning: The reported value is ignored because this `step` 60 is already reported.\n",
            "  warnings.warn(\n",
            "/usr/local/lib/python3.8/dist-packages/optuna/trial/_trial.py:462: UserWarning: The reported value is ignored because this `step` 61 is already reported.\n",
            "  warnings.warn(\n",
            "/usr/local/lib/python3.8/dist-packages/optuna/trial/_trial.py:462: UserWarning: The reported value is ignored because this `step` 62 is already reported.\n",
            "  warnings.warn(\n",
            "/usr/local/lib/python3.8/dist-packages/optuna/trial/_trial.py:462: UserWarning: The reported value is ignored because this `step` 63 is already reported.\n",
            "  warnings.warn(\n",
            "/usr/local/lib/python3.8/dist-packages/optuna/trial/_trial.py:462: UserWarning: The reported value is ignored because this `step` 64 is already reported.\n",
            "  warnings.warn(\n",
            "/usr/local/lib/python3.8/dist-packages/optuna/trial/_trial.py:462: UserWarning: The reported value is ignored because this `step` 65 is already reported.\n",
            "  warnings.warn(\n",
            "/usr/local/lib/python3.8/dist-packages/optuna/trial/_trial.py:462: UserWarning: The reported value is ignored because this `step` 66 is already reported.\n",
            "  warnings.warn(\n",
            "/usr/local/lib/python3.8/dist-packages/optuna/trial/_trial.py:462: UserWarning: The reported value is ignored because this `step` 67 is already reported.\n",
            "  warnings.warn(\n",
            "/usr/local/lib/python3.8/dist-packages/optuna/trial/_trial.py:462: UserWarning: The reported value is ignored because this `step` 68 is already reported.\n",
            "  warnings.warn(\n",
            "/usr/local/lib/python3.8/dist-packages/optuna/trial/_trial.py:462: UserWarning: The reported value is ignored because this `step` 69 is already reported.\n",
            "  warnings.warn(\n",
            "/usr/local/lib/python3.8/dist-packages/optuna/trial/_trial.py:462: UserWarning: The reported value is ignored because this `step` 70 is already reported.\n",
            "  warnings.warn(\n",
            "/usr/local/lib/python3.8/dist-packages/optuna/trial/_trial.py:462: UserWarning: The reported value is ignored because this `step` 71 is already reported.\n",
            "  warnings.warn(\n",
            "/usr/local/lib/python3.8/dist-packages/optuna/trial/_trial.py:462: UserWarning: The reported value is ignored because this `step` 72 is already reported.\n",
            "  warnings.warn(\n",
            "/usr/local/lib/python3.8/dist-packages/optuna/trial/_trial.py:462: UserWarning: The reported value is ignored because this `step` 73 is already reported.\n",
            "  warnings.warn(\n",
            "/usr/local/lib/python3.8/dist-packages/optuna/trial/_trial.py:462: UserWarning: The reported value is ignored because this `step` 74 is already reported.\n",
            "  warnings.warn(\n",
            "/usr/local/lib/python3.8/dist-packages/optuna/trial/_trial.py:462: UserWarning: The reported value is ignored because this `step` 75 is already reported.\n",
            "  warnings.warn(\n",
            "/usr/local/lib/python3.8/dist-packages/optuna/trial/_trial.py:462: UserWarning: The reported value is ignored because this `step` 76 is already reported.\n",
            "  warnings.warn(\n",
            "/usr/local/lib/python3.8/dist-packages/optuna/trial/_trial.py:462: UserWarning: The reported value is ignored because this `step` 77 is already reported.\n",
            "  warnings.warn(\n",
            "/usr/local/lib/python3.8/dist-packages/optuna/trial/_trial.py:462: UserWarning: The reported value is ignored because this `step` 78 is already reported.\n",
            "  warnings.warn(\n",
            "/usr/local/lib/python3.8/dist-packages/optuna/trial/_trial.py:462: UserWarning: The reported value is ignored because this `step` 79 is already reported.\n",
            "  warnings.warn(\n",
            "/usr/local/lib/python3.8/dist-packages/optuna/trial/_trial.py:462: UserWarning: The reported value is ignored because this `step` 80 is already reported.\n",
            "  warnings.warn(\n",
            "/usr/local/lib/python3.8/dist-packages/optuna/trial/_trial.py:462: UserWarning: The reported value is ignored because this `step` 81 is already reported.\n",
            "  warnings.warn(\n",
            "/usr/local/lib/python3.8/dist-packages/optuna/trial/_trial.py:462: UserWarning: The reported value is ignored because this `step` 82 is already reported.\n",
            "  warnings.warn(\n",
            "/usr/local/lib/python3.8/dist-packages/optuna/trial/_trial.py:462: UserWarning: The reported value is ignored because this `step` 83 is already reported.\n",
            "  warnings.warn(\n",
            "/usr/local/lib/python3.8/dist-packages/optuna/trial/_trial.py:462: UserWarning: The reported value is ignored because this `step` 84 is already reported.\n",
            "  warnings.warn(\n",
            "/usr/local/lib/python3.8/dist-packages/optuna/trial/_trial.py:462: UserWarning: The reported value is ignored because this `step` 85 is already reported.\n",
            "  warnings.warn(\n",
            "/usr/local/lib/python3.8/dist-packages/optuna/trial/_trial.py:462: UserWarning: The reported value is ignored because this `step` 86 is already reported.\n",
            "  warnings.warn(\n",
            "/usr/local/lib/python3.8/dist-packages/optuna/trial/_trial.py:462: UserWarning: The reported value is ignored because this `step` 87 is already reported.\n",
            "  warnings.warn(\n",
            "/usr/local/lib/python3.8/dist-packages/optuna/trial/_trial.py:462: UserWarning: The reported value is ignored because this `step` 88 is already reported.\n",
            "  warnings.warn(\n",
            "/usr/local/lib/python3.8/dist-packages/optuna/trial/_trial.py:462: UserWarning: The reported value is ignored because this `step` 89 is already reported.\n",
            "  warnings.warn(\n",
            "/usr/local/lib/python3.8/dist-packages/optuna/trial/_trial.py:462: UserWarning: The reported value is ignored because this `step` 90 is already reported.\n",
            "  warnings.warn(\n",
            "/usr/local/lib/python3.8/dist-packages/optuna/trial/_trial.py:462: UserWarning: The reported value is ignored because this `step` 91 is already reported.\n",
            "  warnings.warn(\n",
            "/usr/local/lib/python3.8/dist-packages/optuna/trial/_trial.py:462: UserWarning: The reported value is ignored because this `step` 92 is already reported.\n",
            "  warnings.warn(\n",
            "/usr/local/lib/python3.8/dist-packages/optuna/trial/_trial.py:462: UserWarning: The reported value is ignored because this `step` 93 is already reported.\n",
            "  warnings.warn(\n",
            "/usr/local/lib/python3.8/dist-packages/optuna/trial/_trial.py:462: UserWarning: The reported value is ignored because this `step` 94 is already reported.\n",
            "  warnings.warn(\n",
            "/usr/local/lib/python3.8/dist-packages/optuna/trial/_trial.py:462: UserWarning: The reported value is ignored because this `step` 95 is already reported.\n",
            "  warnings.warn(\n",
            "/usr/local/lib/python3.8/dist-packages/optuna/trial/_trial.py:462: UserWarning: The reported value is ignored because this `step` 96 is already reported.\n",
            "  warnings.warn(\n",
            "/usr/local/lib/python3.8/dist-packages/optuna/trial/_trial.py:462: UserWarning: The reported value is ignored because this `step` 97 is already reported.\n",
            "  warnings.warn(\n",
            "/usr/local/lib/python3.8/dist-packages/optuna/trial/_trial.py:462: UserWarning: The reported value is ignored because this `step` 98 is already reported.\n",
            "  warnings.warn(\n",
            "/usr/local/lib/python3.8/dist-packages/optuna/trial/_trial.py:462: UserWarning: The reported value is ignored because this `step` 99 is already reported.\n",
            "  warnings.warn(\n",
            "\u001b[32m[I 2022-12-04 14:40:54,753]\u001b[0m Trial 1 finished with value: 218.82845014943942 and parameters: {'max_depth': 6, 'learning_rate': 0.002186548505763493, 'colsample_bytree': 0.38625183421563675, 'subsample': 0.4355826100654535, 'alpha': 0.1474762542832591, 'lambda': 5.955184543677973, 'gamma': 0.00016158093114227923, 'min_child_weight': 19.06965408897461}. Best is trial 1 with value: 218.82845014943942.\u001b[0m\n"
          ]
        },
        {
          "output_type": "stream",
          "name": "stdout",
          "text": [
            "           max_depth : 6\n",
            "       learning_rate : 0.002186548505763493\n",
            "    colsample_bytree : 0.38625183421563675\n",
            "           subsample : 0.4355826100654535\n",
            "               alpha : 0.1474762542832591\n",
            "              lambda : 5.955184543677973\n",
            "               gamma : 0.00016158093114227923\n",
            "    min_child_weight : 19.06965408897461\n",
            "best objective value : 218.82845014943942\n"
          ]
        }
      ]
    },
    {
      "cell_type": "code",
      "source": [
        "hp[\"verbosity\"] = 0\n",
        "hp[\"objective\"] = \"reg:squarederror\"\n",
        "hp[\"n_estimators\"] = 100\n",
        "hp[\"seed\"] = 124\n",
        "hp[\"n_jobs\"] = 12\n",
        "model = XGBRegressor(**hp)\n",
        "rkf = RepeatedKFold(n_splits=10, n_repeats=1, random_state=124)\n",
        "X_values = X_train.values\n",
        "y_values = Y_train.values\n",
        "y_pred = np.zeros_like(Y_valid.values)\n",
        "for train_index, test_index in rkf.split(X_values):\n",
        "    X_A, X_B = X_values[train_index, :], X_values[test_index, :]\n",
        "    y_A, y_B = y_values[train_index], y_values[test_index]\n",
        "    model.fit(\n",
        "        X_A,\n",
        "        y_A,\n",
        "        eval_set=[(X_B, y_B)],\n",
        "        eval_metric=\"rmse\",\n",
        "        early_stopping_rounds=100,\n",
        "        verbose=0,\n",
        "    )\n",
        "    y_pred += model.predict(X_valid.values)\n",
        "y_pred /= 1 * 10"
      ],
      "metadata": {
        "id": "426R6Zly0Chb"
      },
      "id": "426R6Zly0Chb",
      "execution_count": 58,
      "outputs": []
    },
    {
      "cell_type": "code",
      "source": [
        "#you can change the criteria\n",
        "#MAE\n",
        "print(metrics.mean_absolute_error(Y_valid,y_pred))\n",
        "#MSE\n",
        "print(metrics.mean_squared_error(Y_valid,y_pred))\n",
        "#RMSE\n",
        "print(np.sqrt(metrics.mean_squared_error(Y_valid,y_pred)))"
      ],
      "metadata": {
        "colab": {
          "base_uri": "https://localhost:8080/"
        },
        "id": "e2GFHcr40baU",
        "outputId": "bc44887b-5238-4e1a-939f-85bfd6967e56"
      },
      "id": "e2GFHcr40baU",
      "execution_count": 59,
      "outputs": [
        {
          "output_type": "stream",
          "name": "stdout",
          "text": [
            "48.766400597283585\n",
            "48171.8746523594\n",
            "219.4809209301788\n"
          ]
        }
      ]
    },
    {
      "cell_type": "markdown",
      "id": "95983c35",
      "metadata": {
        "id": "95983c35"
      },
      "source": [
        "## Scoring New Data\n",
        "\n",
        "### Prepare data for scoring"
      ]
    },
    {
      "cell_type": "code",
      "execution_count": 60,
      "id": "d1639b73",
      "metadata": {
        "id": "d1639b73"
      },
      "outputs": [],
      "source": [
        "data3 = sas_session.sasdata2dataframe(\n",
        "table='score',\n",
        "libref='cortex'\n",
        ")\n",
        "data4 = sas_session.sasdata2dataframe(\n",
        "table='score_rd2_contact',\n",
        "libref='cortex'\n",
        ")\n",
        "data5 = sas_session.sasdata2dataframe(\n",
        "table='score_rd2_nocontact',\n",
        "libref='cortex'\n",
        ")"
      ]
    },
    {
      "cell_type": "markdown",
      "id": "47f7d483-c503-4da1-accf-8c080a7b81b0",
      "metadata": {
        "id": "47f7d483-c503-4da1-accf-8c080a7b81b0"
      },
      "source": [
        " ### Score new data based on your champion model\n",
        " \n",
        " Pick your champion model from previous steps and use it to predict next year donations. \n",
        " \n",
        " In this case, the linear regression model performed better than the regression tree based on the MSE criteria."
      ]
    },
    {
      "cell_type": "markdown",
      "id": "5bdb9c23-03d9-4dfe-82ca-667b44e99603",
      "metadata": {
        "id": "5bdb9c23-03d9-4dfe-82ca-667b44e99603"
      },
      "source": [
        "### Predict 'amount given' for members who were contacted"
      ]
    },
    {
      "cell_type": "code",
      "execution_count": 61,
      "id": "09ec1430",
      "metadata": {
        "collapsed": true,
        "colab": {
          "base_uri": "https://localhost:8080/",
          "height": 261
        },
        "id": "09ec1430",
        "outputId": "3097e81f-3199-4e87-97ae-593466156032"
      },
      "outputs": [
        {
          "output_type": "stream",
          "name": "stderr",
          "text": [
            "/usr/local/lib/python3.8/dist-packages/sklearn/base.py:450: UserWarning: X does not have valid feature names, but DecisionTreeRegressor was fitted with feature names\n",
            "  warnings.warn(\n"
          ]
        },
        {
          "output_type": "execute_result",
          "data": {
            "text/plain": [
              "          ID  AmtContact\n",
              "0  2000001.0   58.887345\n",
              "1  2000002.0   56.443043\n",
              "2  2000003.0  128.701998\n",
              "3  2000004.0   56.443043\n",
              "4  2000005.0  128.701998"
            ],
            "text/html": [
              "\n",
              "  <div id=\"df-03886518-c9d1-40e2-8fd3-0f774d8e14e9\">\n",
              "    <div class=\"colab-df-container\">\n",
              "      <div>\n",
              "<style scoped>\n",
              "    .dataframe tbody tr th:only-of-type {\n",
              "        vertical-align: middle;\n",
              "    }\n",
              "\n",
              "    .dataframe tbody tr th {\n",
              "        vertical-align: top;\n",
              "    }\n",
              "\n",
              "    .dataframe thead th {\n",
              "        text-align: right;\n",
              "    }\n",
              "</style>\n",
              "<table border=\"1\" class=\"dataframe\">\n",
              "  <thead>\n",
              "    <tr style=\"text-align: right;\">\n",
              "      <th></th>\n",
              "      <th>ID</th>\n",
              "      <th>AmtContact</th>\n",
              "    </tr>\n",
              "  </thead>\n",
              "  <tbody>\n",
              "    <tr>\n",
              "      <th>0</th>\n",
              "      <td>2000001.0</td>\n",
              "      <td>58.887345</td>\n",
              "    </tr>\n",
              "    <tr>\n",
              "      <th>1</th>\n",
              "      <td>2000002.0</td>\n",
              "      <td>56.443043</td>\n",
              "    </tr>\n",
              "    <tr>\n",
              "      <th>2</th>\n",
              "      <td>2000003.0</td>\n",
              "      <td>128.701998</td>\n",
              "    </tr>\n",
              "    <tr>\n",
              "      <th>3</th>\n",
              "      <td>2000004.0</td>\n",
              "      <td>56.443043</td>\n",
              "    </tr>\n",
              "    <tr>\n",
              "      <th>4</th>\n",
              "      <td>2000005.0</td>\n",
              "      <td>128.701998</td>\n",
              "    </tr>\n",
              "  </tbody>\n",
              "</table>\n",
              "</div>\n",
              "      <button class=\"colab-df-convert\" onclick=\"convertToInteractive('df-03886518-c9d1-40e2-8fd3-0f774d8e14e9')\"\n",
              "              title=\"Convert this dataframe to an interactive table.\"\n",
              "              style=\"display:none;\">\n",
              "        \n",
              "  <svg xmlns=\"http://www.w3.org/2000/svg\" height=\"24px\"viewBox=\"0 0 24 24\"\n",
              "       width=\"24px\">\n",
              "    <path d=\"M0 0h24v24H0V0z\" fill=\"none\"/>\n",
              "    <path d=\"M18.56 5.44l.94 2.06.94-2.06 2.06-.94-2.06-.94-.94-2.06-.94 2.06-2.06.94zm-11 1L8.5 8.5l.94-2.06 2.06-.94-2.06-.94L8.5 2.5l-.94 2.06-2.06.94zm10 10l.94 2.06.94-2.06 2.06-.94-2.06-.94-.94-2.06-.94 2.06-2.06.94z\"/><path d=\"M17.41 7.96l-1.37-1.37c-.4-.4-.92-.59-1.43-.59-.52 0-1.04.2-1.43.59L10.3 9.45l-7.72 7.72c-.78.78-.78 2.05 0 2.83L4 21.41c.39.39.9.59 1.41.59.51 0 1.02-.2 1.41-.59l7.78-7.78 2.81-2.81c.8-.78.8-2.07 0-2.86zM5.41 20L4 18.59l7.72-7.72 1.47 1.35L5.41 20z\"/>\n",
              "  </svg>\n",
              "      </button>\n",
              "      \n",
              "  <style>\n",
              "    .colab-df-container {\n",
              "      display:flex;\n",
              "      flex-wrap:wrap;\n",
              "      gap: 12px;\n",
              "    }\n",
              "\n",
              "    .colab-df-convert {\n",
              "      background-color: #E8F0FE;\n",
              "      border: none;\n",
              "      border-radius: 50%;\n",
              "      cursor: pointer;\n",
              "      display: none;\n",
              "      fill: #1967D2;\n",
              "      height: 32px;\n",
              "      padding: 0 0 0 0;\n",
              "      width: 32px;\n",
              "    }\n",
              "\n",
              "    .colab-df-convert:hover {\n",
              "      background-color: #E2EBFA;\n",
              "      box-shadow: 0px 1px 2px rgba(60, 64, 67, 0.3), 0px 1px 3px 1px rgba(60, 64, 67, 0.15);\n",
              "      fill: #174EA6;\n",
              "    }\n",
              "\n",
              "    [theme=dark] .colab-df-convert {\n",
              "      background-color: #3B4455;\n",
              "      fill: #D2E3FC;\n",
              "    }\n",
              "\n",
              "    [theme=dark] .colab-df-convert:hover {\n",
              "      background-color: #434B5C;\n",
              "      box-shadow: 0px 1px 3px 1px rgba(0, 0, 0, 0.15);\n",
              "      filter: drop-shadow(0px 1px 2px rgba(0, 0, 0, 0.3));\n",
              "      fill: #FFFFFF;\n",
              "    }\n",
              "  </style>\n",
              "\n",
              "      <script>\n",
              "        const buttonEl =\n",
              "          document.querySelector('#df-03886518-c9d1-40e2-8fd3-0f774d8e14e9 button.colab-df-convert');\n",
              "        buttonEl.style.display =\n",
              "          google.colab.kernel.accessAllowed ? 'block' : 'none';\n",
              "\n",
              "        async function convertToInteractive(key) {\n",
              "          const element = document.querySelector('#df-03886518-c9d1-40e2-8fd3-0f774d8e14e9');\n",
              "          const dataTable =\n",
              "            await google.colab.kernel.invokeFunction('convertToInteractive',\n",
              "                                                     [key], {});\n",
              "          if (!dataTable) return;\n",
              "\n",
              "          const docLinkHtml = 'Like what you see? Visit the ' +\n",
              "            '<a target=\"_blank\" href=https://colab.research.google.com/notebooks/data_table.ipynb>data table notebook</a>'\n",
              "            + ' to learn more about interactive tables.';\n",
              "          element.innerHTML = '';\n",
              "          dataTable['output_type'] = 'display_data';\n",
              "          await google.colab.output.renderOutput(dataTable, element);\n",
              "          const docLink = document.createElement('div');\n",
              "          docLink.innerHTML = docLinkHtml;\n",
              "          element.appendChild(docLink);\n",
              "        }\n",
              "      </script>\n",
              "    </div>\n",
              "  </div>\n",
              "  "
            ]
          },
          "metadata": {},
          "execution_count": 61
        }
      ],
      "source": [
        "scoring_data_contact = pd.merge(data3, data4, on=[\"ID\"],how=\"right\")\n",
        "\n",
        "# Perform the same strategy for handling missing values for the score dataset.\n",
        "# In this case, we will only replace missing values of the MinGift variable.\n",
        "\n",
        "scoring_data_contact[['MinGift']] = scoring_data_contact[['MinGift']].fillna(value=0) \n",
        "scoring_data_contact[['MaxGift']] = scoring_data_contact[['MaxGift']].fillna(value=0)  \n",
        "scoring_data_contact[['TotalGift']] = scoring_data_contact[['TotalGift']].fillna(value=scoring_data_contact['MinGift']+ scoring_data_contact['MaxGift'])\n",
        "\n",
        "scoring_data_contact[['Recency']] = scoring_data_contact[['Recency']].fillna(math.floor(scoring_data_contact['Recency'].mean()))  \n",
        "scoring_data_contact[['Frequency']] = scoring_data_contact[['Frequency']].fillna(math.floor(scoring_data_contact['Frequency'].mean()))  \n",
        "scoring_data_contact[['Seniority']] = scoring_data_contact[['Seniority']].fillna(math.floor(scoring_data_contact['Seniority'].mean()))  \n",
        "scoring_data_contact[['Referrals']] = scoring_data_contact[['Referrals']].fillna(math.floor(scoring_data_contact['Referrals'].mean()))\n",
        "\n",
        "scoring_data_contact[['City']] = scoring_data_contact[['City']].fillna(value=\"City\")  \n",
        "scoring_data_contact= pd.get_dummies(scoring_data_contact, columns= ['City'])\n",
        "\n",
        "scoring_data_contact[['Education']] = scoring_data_contact[['Education']].fillna(value=\"University / College\")  \n",
        "scoring_data_contact= pd.get_dummies(scoring_data_contact, columns= ['Education'])\n",
        "\n",
        "scoring_data_contact= scoring_data_contact.drop_duplicates()\n",
        "\n",
        "\n",
        "X = scoring_data_contact[['Age', 'Salary','Contact','MinGift', 'AmtLastYear','GaveLastYear','Woman', 'NbActivities','Referrals']]  \n",
        "\n",
        "regr_predict_contact=DT_model2.predict(X.values)\n",
        "\n",
        "scoring_data_contact['Prediction'] = regr_predict_contact\n",
        "\n",
        "scoring_data_contact= scoring_data_contact[['ID','Prediction']]\n",
        "scoring_data_contact = scoring_data_contact.rename({'Prediction': 'AmtContact'}, axis=1) \n",
        "scoring_data_contact.head()"
      ]
    },
    {
      "cell_type": "markdown",
      "id": "f3fa6e3f-da9c-4121-b896-f5ba52f8d4f3",
      "metadata": {
        "id": "f3fa6e3f-da9c-4121-b896-f5ba52f8d4f3"
      },
      "source": [
        "### Predict 'amount given' for members who were not contacted"
      ]
    },
    {
      "cell_type": "code",
      "execution_count": 62,
      "id": "9c0f1c5b",
      "metadata": {
        "collapsed": true,
        "colab": {
          "base_uri": "https://localhost:8080/",
          "height": 261
        },
        "id": "9c0f1c5b",
        "outputId": "dd3eaba4-82d0-4e2e-8b1e-1e3f599a2b3a"
      },
      "outputs": [
        {
          "output_type": "stream",
          "name": "stderr",
          "text": [
            "/usr/local/lib/python3.8/dist-packages/sklearn/base.py:450: UserWarning: X does not have valid feature names, but DecisionTreeRegressor was fitted with feature names\n",
            "  warnings.warn(\n"
          ]
        },
        {
          "output_type": "execute_result",
          "data": {
            "text/plain": [
              "          ID  AmtNoContact\n",
              "0  2000001.0     58.887345\n",
              "1  2000002.0     56.443043\n",
              "2  2000003.0    128.701998\n",
              "3  2000004.0     56.443043\n",
              "4  2000005.0    128.701998"
            ],
            "text/html": [
              "\n",
              "  <div id=\"df-e853e1c7-89ee-4bf7-92d7-2887f59e55ab\">\n",
              "    <div class=\"colab-df-container\">\n",
              "      <div>\n",
              "<style scoped>\n",
              "    .dataframe tbody tr th:only-of-type {\n",
              "        vertical-align: middle;\n",
              "    }\n",
              "\n",
              "    .dataframe tbody tr th {\n",
              "        vertical-align: top;\n",
              "    }\n",
              "\n",
              "    .dataframe thead th {\n",
              "        text-align: right;\n",
              "    }\n",
              "</style>\n",
              "<table border=\"1\" class=\"dataframe\">\n",
              "  <thead>\n",
              "    <tr style=\"text-align: right;\">\n",
              "      <th></th>\n",
              "      <th>ID</th>\n",
              "      <th>AmtNoContact</th>\n",
              "    </tr>\n",
              "  </thead>\n",
              "  <tbody>\n",
              "    <tr>\n",
              "      <th>0</th>\n",
              "      <td>2000001.0</td>\n",
              "      <td>58.887345</td>\n",
              "    </tr>\n",
              "    <tr>\n",
              "      <th>1</th>\n",
              "      <td>2000002.0</td>\n",
              "      <td>56.443043</td>\n",
              "    </tr>\n",
              "    <tr>\n",
              "      <th>2</th>\n",
              "      <td>2000003.0</td>\n",
              "      <td>128.701998</td>\n",
              "    </tr>\n",
              "    <tr>\n",
              "      <th>3</th>\n",
              "      <td>2000004.0</td>\n",
              "      <td>56.443043</td>\n",
              "    </tr>\n",
              "    <tr>\n",
              "      <th>4</th>\n",
              "      <td>2000005.0</td>\n",
              "      <td>128.701998</td>\n",
              "    </tr>\n",
              "  </tbody>\n",
              "</table>\n",
              "</div>\n",
              "      <button class=\"colab-df-convert\" onclick=\"convertToInteractive('df-e853e1c7-89ee-4bf7-92d7-2887f59e55ab')\"\n",
              "              title=\"Convert this dataframe to an interactive table.\"\n",
              "              style=\"display:none;\">\n",
              "        \n",
              "  <svg xmlns=\"http://www.w3.org/2000/svg\" height=\"24px\"viewBox=\"0 0 24 24\"\n",
              "       width=\"24px\">\n",
              "    <path d=\"M0 0h24v24H0V0z\" fill=\"none\"/>\n",
              "    <path d=\"M18.56 5.44l.94 2.06.94-2.06 2.06-.94-2.06-.94-.94-2.06-.94 2.06-2.06.94zm-11 1L8.5 8.5l.94-2.06 2.06-.94-2.06-.94L8.5 2.5l-.94 2.06-2.06.94zm10 10l.94 2.06.94-2.06 2.06-.94-2.06-.94-.94-2.06-.94 2.06-2.06.94z\"/><path d=\"M17.41 7.96l-1.37-1.37c-.4-.4-.92-.59-1.43-.59-.52 0-1.04.2-1.43.59L10.3 9.45l-7.72 7.72c-.78.78-.78 2.05 0 2.83L4 21.41c.39.39.9.59 1.41.59.51 0 1.02-.2 1.41-.59l7.78-7.78 2.81-2.81c.8-.78.8-2.07 0-2.86zM5.41 20L4 18.59l7.72-7.72 1.47 1.35L5.41 20z\"/>\n",
              "  </svg>\n",
              "      </button>\n",
              "      \n",
              "  <style>\n",
              "    .colab-df-container {\n",
              "      display:flex;\n",
              "      flex-wrap:wrap;\n",
              "      gap: 12px;\n",
              "    }\n",
              "\n",
              "    .colab-df-convert {\n",
              "      background-color: #E8F0FE;\n",
              "      border: none;\n",
              "      border-radius: 50%;\n",
              "      cursor: pointer;\n",
              "      display: none;\n",
              "      fill: #1967D2;\n",
              "      height: 32px;\n",
              "      padding: 0 0 0 0;\n",
              "      width: 32px;\n",
              "    }\n",
              "\n",
              "    .colab-df-convert:hover {\n",
              "      background-color: #E2EBFA;\n",
              "      box-shadow: 0px 1px 2px rgba(60, 64, 67, 0.3), 0px 1px 3px 1px rgba(60, 64, 67, 0.15);\n",
              "      fill: #174EA6;\n",
              "    }\n",
              "\n",
              "    [theme=dark] .colab-df-convert {\n",
              "      background-color: #3B4455;\n",
              "      fill: #D2E3FC;\n",
              "    }\n",
              "\n",
              "    [theme=dark] .colab-df-convert:hover {\n",
              "      background-color: #434B5C;\n",
              "      box-shadow: 0px 1px 3px 1px rgba(0, 0, 0, 0.15);\n",
              "      filter: drop-shadow(0px 1px 2px rgba(0, 0, 0, 0.3));\n",
              "      fill: #FFFFFF;\n",
              "    }\n",
              "  </style>\n",
              "\n",
              "      <script>\n",
              "        const buttonEl =\n",
              "          document.querySelector('#df-e853e1c7-89ee-4bf7-92d7-2887f59e55ab button.colab-df-convert');\n",
              "        buttonEl.style.display =\n",
              "          google.colab.kernel.accessAllowed ? 'block' : 'none';\n",
              "\n",
              "        async function convertToInteractive(key) {\n",
              "          const element = document.querySelector('#df-e853e1c7-89ee-4bf7-92d7-2887f59e55ab');\n",
              "          const dataTable =\n",
              "            await google.colab.kernel.invokeFunction('convertToInteractive',\n",
              "                                                     [key], {});\n",
              "          if (!dataTable) return;\n",
              "\n",
              "          const docLinkHtml = 'Like what you see? Visit the ' +\n",
              "            '<a target=\"_blank\" href=https://colab.research.google.com/notebooks/data_table.ipynb>data table notebook</a>'\n",
              "            + ' to learn more about interactive tables.';\n",
              "          element.innerHTML = '';\n",
              "          dataTable['output_type'] = 'display_data';\n",
              "          await google.colab.output.renderOutput(dataTable, element);\n",
              "          const docLink = document.createElement('div');\n",
              "          docLink.innerHTML = docLinkHtml;\n",
              "          element.appendChild(docLink);\n",
              "        }\n",
              "      </script>\n",
              "    </div>\n",
              "  </div>\n",
              "  "
            ]
          },
          "metadata": {},
          "execution_count": 62
        }
      ],
      "source": [
        "scoring_data_nocontact = pd.merge(data3, data5, on=[\"ID\"],how=\"right\")\n",
        "\n",
        "# Perform the same strategy for handling missing values for the score dataset.\n",
        "# In this case, we will only replace missing values of the MinGift variable.\n",
        "\n",
        "scoring_data_nocontact[['MinGift']] = scoring_data_nocontact[['MinGift']].fillna(value=0)\n",
        "scoring_data_nocontact[['MinGift']] = scoring_data_nocontact[['MinGift']].fillna(value=0) \n",
        "scoring_data_nocontact[['MaxGift']] = scoring_data_nocontact[['MaxGift']].fillna(value=0)  \n",
        "scoring_data_nocontact[['TotalGift']] = scoring_data_nocontact[['TotalGift']].fillna(value=scoring_data_nocontact['MinGift']+ scoring_data_nocontact['MaxGift'])\n",
        "\n",
        "scoring_data_nocontact[['Recency']] = scoring_data_nocontact[['Recency']].fillna(math.floor(scoring_data_nocontact['Recency'].mean()))  \n",
        "scoring_data_nocontact[['Frequency']] = scoring_data_nocontact[['Frequency']].fillna(math.floor(scoring_data_nocontact['Frequency'].mean()))  \n",
        "scoring_data_nocontact[['Seniority']] = scoring_data_nocontact[['Seniority']].fillna(math.floor(scoring_data_nocontact['Seniority'].mean()))  \n",
        "scoring_data_nocontact[['Referrals']] = scoring_data_nocontact[['Referrals']].fillna(math.floor(scoring_data_nocontact['Referrals'].mean()))\n",
        "\n",
        "scoring_data_nocontact[['City']] = scoring_data_nocontact[['City']].fillna(value=\"City\")  \n",
        "scoring_data_nocontact= pd.get_dummies(scoring_data_nocontact, columns= ['City'])\n",
        "\n",
        "scoring_data_nocontact[['Education']] = scoring_data_nocontact[['Education']].fillna(value=\"University / College\")  \n",
        "scoring_data_nocontact= pd.get_dummies(scoring_data_nocontact, columns= ['Education'])\n",
        "\n",
        "scoring_data_nocontact= scoring_data_nocontact.drop_duplicates()\n",
        "\n",
        "X = scoring_data_nocontact[['Age', 'Salary','Contact','MinGift','AmtLastYear', 'GaveLastYear','Woman', 'NbActivities','Referrals']]  \n",
        "\n",
        "regr_predict_nocontact=DT_model2.predict(X.values)\n",
        "\n",
        "scoring_data_nocontact['Prediction'] = regr_predict_nocontact\n",
        "\n",
        "scoring_data_nocontact= scoring_data_nocontact[['ID','Prediction']]\n",
        "scoring_data_nocontact = scoring_data_nocontact.rename({'Prediction': 'AmtNoContact'}, axis=1) \n",
        "scoring_data_nocontact.head()"
      ]
    },
    {
      "cell_type": "code",
      "execution_count": 63,
      "id": "5036d69c",
      "metadata": {
        "collapsed": true,
        "colab": {
          "base_uri": "https://localhost:8080/",
          "height": 143
        },
        "id": "5036d69c",
        "outputId": "d2e615ee-ed45-4537-ef61-7770930b5ddb"
      },
      "outputs": [
        {
          "output_type": "execute_result",
          "data": {
            "text/plain": [
              "               ID  AmtContact  AmtNoContact\n",
              "162935  2162936.0   38.847504     38.847504\n",
              "839383  2839384.0   38.847504     38.847504\n",
              "648117  2648118.0   38.847504     38.847504"
            ],
            "text/html": [
              "\n",
              "  <div id=\"df-a73f5d93-f9aa-4971-acf1-95667578b832\">\n",
              "    <div class=\"colab-df-container\">\n",
              "      <div>\n",
              "<style scoped>\n",
              "    .dataframe tbody tr th:only-of-type {\n",
              "        vertical-align: middle;\n",
              "    }\n",
              "\n",
              "    .dataframe tbody tr th {\n",
              "        vertical-align: top;\n",
              "    }\n",
              "\n",
              "    .dataframe thead th {\n",
              "        text-align: right;\n",
              "    }\n",
              "</style>\n",
              "<table border=\"1\" class=\"dataframe\">\n",
              "  <thead>\n",
              "    <tr style=\"text-align: right;\">\n",
              "      <th></th>\n",
              "      <th>ID</th>\n",
              "      <th>AmtContact</th>\n",
              "      <th>AmtNoContact</th>\n",
              "    </tr>\n",
              "  </thead>\n",
              "  <tbody>\n",
              "    <tr>\n",
              "      <th>162935</th>\n",
              "      <td>2162936.0</td>\n",
              "      <td>38.847504</td>\n",
              "      <td>38.847504</td>\n",
              "    </tr>\n",
              "    <tr>\n",
              "      <th>839383</th>\n",
              "      <td>2839384.0</td>\n",
              "      <td>38.847504</td>\n",
              "      <td>38.847504</td>\n",
              "    </tr>\n",
              "    <tr>\n",
              "      <th>648117</th>\n",
              "      <td>2648118.0</td>\n",
              "      <td>38.847504</td>\n",
              "      <td>38.847504</td>\n",
              "    </tr>\n",
              "  </tbody>\n",
              "</table>\n",
              "</div>\n",
              "      <button class=\"colab-df-convert\" onclick=\"convertToInteractive('df-a73f5d93-f9aa-4971-acf1-95667578b832')\"\n",
              "              title=\"Convert this dataframe to an interactive table.\"\n",
              "              style=\"display:none;\">\n",
              "        \n",
              "  <svg xmlns=\"http://www.w3.org/2000/svg\" height=\"24px\"viewBox=\"0 0 24 24\"\n",
              "       width=\"24px\">\n",
              "    <path d=\"M0 0h24v24H0V0z\" fill=\"none\"/>\n",
              "    <path d=\"M18.56 5.44l.94 2.06.94-2.06 2.06-.94-2.06-.94-.94-2.06-.94 2.06-2.06.94zm-11 1L8.5 8.5l.94-2.06 2.06-.94-2.06-.94L8.5 2.5l-.94 2.06-2.06.94zm10 10l.94 2.06.94-2.06 2.06-.94-2.06-.94-.94-2.06-.94 2.06-2.06.94z\"/><path d=\"M17.41 7.96l-1.37-1.37c-.4-.4-.92-.59-1.43-.59-.52 0-1.04.2-1.43.59L10.3 9.45l-7.72 7.72c-.78.78-.78 2.05 0 2.83L4 21.41c.39.39.9.59 1.41.59.51 0 1.02-.2 1.41-.59l7.78-7.78 2.81-2.81c.8-.78.8-2.07 0-2.86zM5.41 20L4 18.59l7.72-7.72 1.47 1.35L5.41 20z\"/>\n",
              "  </svg>\n",
              "      </button>\n",
              "      \n",
              "  <style>\n",
              "    .colab-df-container {\n",
              "      display:flex;\n",
              "      flex-wrap:wrap;\n",
              "      gap: 12px;\n",
              "    }\n",
              "\n",
              "    .colab-df-convert {\n",
              "      background-color: #E8F0FE;\n",
              "      border: none;\n",
              "      border-radius: 50%;\n",
              "      cursor: pointer;\n",
              "      display: none;\n",
              "      fill: #1967D2;\n",
              "      height: 32px;\n",
              "      padding: 0 0 0 0;\n",
              "      width: 32px;\n",
              "    }\n",
              "\n",
              "    .colab-df-convert:hover {\n",
              "      background-color: #E2EBFA;\n",
              "      box-shadow: 0px 1px 2px rgba(60, 64, 67, 0.3), 0px 1px 3px 1px rgba(60, 64, 67, 0.15);\n",
              "      fill: #174EA6;\n",
              "    }\n",
              "\n",
              "    [theme=dark] .colab-df-convert {\n",
              "      background-color: #3B4455;\n",
              "      fill: #D2E3FC;\n",
              "    }\n",
              "\n",
              "    [theme=dark] .colab-df-convert:hover {\n",
              "      background-color: #434B5C;\n",
              "      box-shadow: 0px 1px 3px 1px rgba(0, 0, 0, 0.15);\n",
              "      filter: drop-shadow(0px 1px 2px rgba(0, 0, 0, 0.3));\n",
              "      fill: #FFFFFF;\n",
              "    }\n",
              "  </style>\n",
              "\n",
              "      <script>\n",
              "        const buttonEl =\n",
              "          document.querySelector('#df-a73f5d93-f9aa-4971-acf1-95667578b832 button.colab-df-convert');\n",
              "        buttonEl.style.display =\n",
              "          google.colab.kernel.accessAllowed ? 'block' : 'none';\n",
              "\n",
              "        async function convertToInteractive(key) {\n",
              "          const element = document.querySelector('#df-a73f5d93-f9aa-4971-acf1-95667578b832');\n",
              "          const dataTable =\n",
              "            await google.colab.kernel.invokeFunction('convertToInteractive',\n",
              "                                                     [key], {});\n",
              "          if (!dataTable) return;\n",
              "\n",
              "          const docLinkHtml = 'Like what you see? Visit the ' +\n",
              "            '<a target=\"_blank\" href=https://colab.research.google.com/notebooks/data_table.ipynb>data table notebook</a>'\n",
              "            + ' to learn more about interactive tables.';\n",
              "          element.innerHTML = '';\n",
              "          dataTable['output_type'] = 'display_data';\n",
              "          await google.colab.output.renderOutput(dataTable, element);\n",
              "          const docLink = document.createElement('div');\n",
              "          docLink.innerHTML = docLinkHtml;\n",
              "          element.appendChild(docLink);\n",
              "        }\n",
              "      </script>\n",
              "    </div>\n",
              "  </div>\n",
              "  "
            ]
          },
          "metadata": {},
          "execution_count": 63
        }
      ],
      "source": [
        "result_Amt = pd.merge(scoring_data_contact, scoring_data_nocontact, on=[\"ID\"],how=\"right\")\n",
        "result_Amt.sort_values(by=['AmtContact'], inplace=True)\n",
        "result_Amt.head(3)"
      ]
    },
    {
      "cell_type": "markdown",
      "id": "f09bf90d",
      "metadata": {
        "id": "f09bf90d"
      },
      "source": [
        "## Exporting Results to a CSV File"
      ]
    },
    {
      "cell_type": "code",
      "execution_count": 64,
      "id": "606bf0a9",
      "metadata": {
        "id": "606bf0a9"
      },
      "outputs": [],
      "source": [
        "result_Amt.to_csv('Round2_Output_amt.csv', index=False)"
      ]
    },
    {
      "cell_type": "code",
      "source": [
        "NB = 10000\n",
        "submission = result_Amt.head(NB)\n",
        "submission.to_csv('Round2_Output_amt.csv', index=False)"
      ],
      "metadata": {
        "id": "XDDe8JQs90Oa"
      },
      "id": "XDDe8JQs90Oa",
      "execution_count": 65,
      "outputs": []
    },
    {
      "cell_type": "code",
      "source": [
        "!head Round2_Output_amt.csv"
      ],
      "metadata": {
        "id": "cJXIon3nFSHJ",
        "colab": {
          "base_uri": "https://localhost:8080/"
        },
        "outputId": "b9a45036-35e0-4a75-aa0a-755ae6b2cc2c"
      },
      "id": "cJXIon3nFSHJ",
      "execution_count": 66,
      "outputs": [
        {
          "output_type": "stream",
          "name": "stdout",
          "text": [
            "ID,AmtContact,AmtNoContact\n",
            "2162936.0,38.847503810095596,38.847503810095596\n",
            "2839384.0,38.847503810095596,38.847503810095596\n",
            "2648118.0,38.847503810095596,38.847503810095596\n",
            "2120484.0,38.847503810095596,38.847503810095596\n",
            "2839378.0,38.847503810095596,38.847503810095596\n",
            "2120486.0,38.847503810095596,38.847503810095596\n",
            "2390853.0,38.847503810095596,38.847503810095596\n",
            "2264221.0,38.847503810095596,38.847503810095596\n",
            "2839369.0,38.847503810095596,38.847503810095596\n"
          ]
        }
      ]
    }
  ],
  "metadata": {
    "kernelspec": {
      "display_name": "Python 3",
      "language": "python",
      "name": "python3"
    },
    "language_info": {
      "codemirror_mode": {
        "name": "ipython",
        "version": 3
      },
      "file_extension": ".py",
      "mimetype": "text/x-python",
      "name": "python",
      "nbconvert_exporter": "python",
      "pygments_lexer": "ipython3",
      "version": "3.8.8"
    },
    "colab": {
      "provenance": [],
      "collapsed_sections": [
        "1137c438-65da-4f16-94b8-dee2f83e3abe",
        "28190b6e",
        "47f7d483-c503-4da1-accf-8c080a7b81b0"
      ]
    }
  },
  "nbformat": 4,
  "nbformat_minor": 5
}